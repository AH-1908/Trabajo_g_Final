{
 "cells": [
  {
   "cell_type": "markdown",
   "id": "dd9467db-13c1-4f23-85ee-cf73a60a444a",
   "metadata": {},
   "source": [
    "El presente trabjo tiene como bjetivos:\n",
    "- Hacer una comparación entre dos artistas, para ver quien tiene más alacance en esta plataforma\n",
    "- Hacer un análisis de sentimiento de los tweets de un tema especifico, utilizando los hagtags\n",
    "- Presentar una base de datos con los detalles del tweet"
   ]
  },
  {
   "cell_type": "markdown",
   "id": "70980706-ed60-40c8-89c9-3b06eda30010",
   "metadata": {},
   "source": [
    "Para utilizar la API de marketing de Twitter (ahora conocida como X), es necesario obtener las credenciales adecuadas. A continuación, se detallan los pasos para obtenerlas:\n",
    "\n",
    "1. Crear una Cuenta de Twitter:\n",
    "    - Visita el sitio web de Twitter y crea una cuenta.\n",
    "    - Seleccionar el Plan Gratuito de la API:\n",
    "\n",
    "2. Ve a la página de desarrolladores de Twitter.\n",
    "    - Elige el plan gratuito que ofrece la API. \n",
    "    - Una vez que hayas seleccionado el plan gratuito, sigue las instrucciones para crear una nueva aplicación en el portal de desarrolladores.\n",
    "    - Proporciona los detalles necesarios, como el nombre de la aplicación, la descripción y el sitio web (si aplica).\n",
    "        \n",
    "3. Autenticar tus Credenciales:\n",
    "    - Después de crear la aplicación, recibirás las credenciales necesarias, que incluyen la clave API, el secreto API, el token de acceso y el secreto del token de acceso.\n",
    "Estos detalles se encuentran en el panel de tu aplicación en el portal de desarrolladores."
   ]
  },
  {
   "cell_type": "markdown",
   "id": "dc068aba-cd7a-4b13-abb5-aa7dfd538c91",
   "metadata": {},
   "source": [
    " los credenciales que obtuvimos fueron los siguientes:"
   ]
  },
  {
   "cell_type": "code",
   "execution_count": 2,
   "id": "92bddda0-a390-4b16-a088-e4abb90ccfff",
   "metadata": {},
   "outputs": [],
   "source": [
    "consumer_key = 'bySScm26x28PF6xOHtMzy645D'\n",
    "consumer_secret = 'yhHJpCu50qVQBmVVOjoyAgM37o0sAmw8aM3Shnf2S7jcj6OTdx'\n",
    "access_token = '1001671899934547968-LCVsO8P3f2RzdUfPWTZVLnj6WEWN0e'\n",
    "access_token_secret = 'SK4IJo4rd3VXUyrYJvNFcNp7wdP0D3mhv92BKIfDyqwyJ'"
   ]
  },
  {
   "cell_type": "markdown",
   "id": "6da469dc-cd69-43e0-9ed9-16f37f0312d6",
   "metadata": {},
   "source": [
    "Sin embargo este plan gratuito no nos permite oobtener los datos deseads, por ello utilizamos nos apoyamos en rapidapi"
   ]
  },
  {
   "cell_type": "code",
   "execution_count": null,
   "id": "434724a4-6ef2-44c5-9c92-71c4e72a9d99",
   "metadata": {},
   "outputs": [],
   "source": []
  }
 ],
 "metadata": {
  "kernelspec": {
   "display_name": "Python 3 (ipykernel)",
   "language": "python",
   "name": "python3"
  },
  "language_info": {
   "codemirror_mode": {
    "name": "ipython",
    "version": 3
   },
   "file_extension": ".py",
   "mimetype": "text/x-python",
   "name": "python",
   "nbconvert_exporter": "python",
   "pygments_lexer": "ipython3",
   "version": "3.12.4"
  }
 },
 "nbformat": 4,
 "nbformat_minor": 5
}
