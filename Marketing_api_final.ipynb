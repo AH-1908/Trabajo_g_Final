{
 "cells": [
  {
   "cell_type": "markdown",
   "id": "dd9467db-13c1-4f23-85ee-cf73a60a444a",
   "metadata": {},
   "source": [
    "El presente trabjo tiene como bjetivos:\n",
    "- Hacer una comparación entre dos artistas, para ver quien tiene más alacance en esta plataforma\n",
    "- Hacer un análisis de sentimiento de los tweets de un tema especifico, utilizando los hagtags\n",
    "- Presentar una base de datos con los detalles del tweet"
   ]
  },
  {
   "cell_type": "markdown",
   "id": "70980706-ed60-40c8-89c9-3b06eda30010",
   "metadata": {},
   "source": [
    "Para utilizar la API de marketing de Twitter (ahora conocida como X), es necesario obtener las credenciales adecuadas. A continuación, se detallan los pasos para obtenerlas:\n",
    "\n",
    "1. Crear una Cuenta de Twitter:\n",
    "    - Visita el sitio web de Twitter y crea una cuenta.\n",
    "    - Seleccionar el Plan Gratuito de la API:\n",
    "\n",
    "2. Ve a la página de desarrolladores de Twitter.\n",
    "    - Elige el plan gratuito que ofrece la API. \n",
    "    - Una vez que hayas seleccionado el plan gratuito, sigue las instrucciones para crear una nueva aplicación en el portal de desarrolladores.\n",
    "    - Proporciona los detalles necesarios, como el nombre de la aplicación, la descripción y el sitio web (si aplica).\n",
    "        \n",
    "3. Autenticar tus Credenciales:\n",
    "    - Después de crear la aplicación, recibirás las credenciales necesarias, que incluyen la clave API, el secreto API, el token de acceso y el secreto del token de acceso.\n",
    "Estos detalles se encuentran en el panel de tu aplicación en el portal de desarrolladores."
   ]
  },
  {
   "cell_type": "markdown",
   "id": "dc068aba-cd7a-4b13-abb5-aa7dfd538c91",
   "metadata": {},
   "source": [
    " los credenciales que obtuvimos fueron los siguientes:"
   ]
  },
  {
   "cell_type": "code",
   "execution_count": null,
   "id": "92bddda0-a390-4b16-a088-e4abb90ccfff",
   "metadata": {},
   "outputs": [],
   "source": [
    "consumer_key = 'bySScm26x28PF6xOHtMzy645D'\n",
    "consumer_secret = 'yhHJpCu50qVQBmVVOjoyAgM37o0sAmw8aM3Shnf2S7jcj6OTdx'\n",
    "access_token = '1001671899934547968-LCVsO8P3f2RzdUfPWTZVLnj6WEWN0e'\n",
    "access_token_secret = 'SK4IJo4rd3VXUyrYJvNFcNp7wdP0D3mhv92BKIfDyqwyJ'"
   ]
  },
  {
   "cell_type": "markdown",
   "id": "6da469dc-cd69-43e0-9ed9-16f37f0312d6",
   "metadata": {},
   "source": [
    "Sin embargo este plan gratuito no nos permite oobtener los datos deseads, por ello utilizamos nos apoyamos en rapidapi"
   ]
  },
  {
   "cell_type": "code",
   "execution_count": 25,
   "id": "1af39643",
   "metadata": {},
   "outputs": [
    {
     "name": "stdout",
     "output_type": "stream",
     "text": [
      "{'creation_date': 'Fri Nov 18 22:31:18 +0000 2011', 'user_id': '415859364', 'username': 'Nike', 'name': 'Nike', 'follower_count': 10209601, 'following_count': 120, 'favourites_count': 7114, 'is_private': None, 'is_verified': False, 'is_blue_verified': True, 'location': 'Beaverton, Oregon', 'profile_pic_url': 'https://pbs.twimg.com/profile_images/1808501290001203200/Kc7kRCkj_normal.jpg', 'profile_banner_url': 'https://pbs.twimg.com/profile_banners/415859364/1720015298', 'description': 'Nike Air. Engineered to the exact specifications of championship athletes. #WinOnAir', 'external_url': 'http://nike.com', 'number_of_tweets': 38966, 'bot': False, 'timestamp': 1321655478, 'has_nft_avatar': False, 'category': None, 'default_profile': False, 'default_profile_image': False, 'listed_count': 11499, 'verified_type': 'Business'}\n"
     ]
    }
   ],
   "source": [
    "import requests\n",
    "\n",
    "# URL de la API para obtener detalles de un usuario específico de Twitter\n",
    "url = \"https://twitter154.p.rapidapi.com/user/details\"\n",
    "\n",
    "# Solicitar al usuario que ingrese el nombre de usuario de Twitter\n",
    "username = input(\"Por favor, ingrese el nombre de usuario de Twitter: \")\n",
    "\n",
    "# Parámetros de la consulta, utilizando el nombre de usuario ingresado\n",
    "querystring = {\"username\": username}\n",
    "\n",
    "# Encabezados de la solicitud, incluyendo la clave de API y el host de RapidAPI\n",
    "headers = {\n",
    "    \"x-rapidapi-key\": \"403a4df21fmsh0da9292eecc8e34p11e95ejsn1ecbde43ce92\",\n",
    "    \"x-rapidapi-host\": \"twitter154.p.rapidapi.com\"\n",
    "}\n",
    "\n",
    "# Realiza la solicitud GET a la API con los encabezados y parámetros especificados\n",
    "response = requests.get(url, headers=headers, params=querystring)\n",
    "\n",
    "# Verifica si la solicitud fue exitosa\n",
    "if response.status_code == 200:\n",
    "    # Imprime la respuesta en formato JSON\n",
    "    print(response.json())\n",
    "else:\n",
    "    # Imprime un mensaje de error si la solicitud no fue exitosa\n",
    "    print(f\"Error: {response.status_code}\")"
   ]
  },
  {
   "cell_type": "markdown",
   "id": "e798792a",
   "metadata": {},
   "source": [
    "### Explicación del código:\n",
    "\n",
    "1. **Capturar la entrada del usuario**:\n",
    "   - `username = input(\"Por favor, ingrese el nombre de usuario de Twitter: \")`: Utiliza la función `input()` para solicitar al usuario que ingrese el nombre de usuario de Twitter. El valor ingresado se almacena en la variable `username`.\n",
    "\n",
    "2. **Configurar los parámetros de la consulta**:\n",
    "   - `querystring = {\"username\": username}`: Utiliza el nombre de usuario ingresado por el usuario para configurar los parámetros de la consulta.\n",
    "\n",
    "3. **Verificar si la solicitud fue exitosa**:\n",
    "   - `if response.status_code == 200`: Verifica si el código de estado de la respuesta es 200 (lo que indica una solicitud exitosa).\n",
    "   - `else`: Si el código de estado no es 200, imprime un mensaje de error con el código de estado."
   ]
  },
  {
   "cell_type": "code",
   "execution_count": 28,
   "id": "4ce4ec5c-8002-47af-82a9-1fbcecf449fb",
   "metadata": {
    "scrolled": true
   },
   "outputs": [
    {
     "name": "stdout",
     "output_type": "stream",
     "text": [
      "{'results': [{'tweet_id': '1812850282369601855', 'creation_date': 'Mon Jul 15 14:02:43 +0000 2024', 'text': 'Two reasons to celebrate. Two histories in the making. @DiedetheGreat 🏆 Niels Vink 🏆 https://t.co/SURKzzHQvm', 'media_url': ['https://pbs.twimg.com/media/GSiJuFcWkAA5xE_.jpg', 'https://pbs.twimg.com/media/GSiJuFdXcAAjO18.jpg'], 'video_url': None, 'user': {'creation_date': 'Fri Nov 18 22:31:18 +0000 2011', 'user_id': '415859364', 'username': 'Nike', 'name': 'Nike', 'follower_count': 10209610, 'following_count': 120, 'favourites_count': 7114, 'is_private': False, 'is_verified': False, 'is_blue_verified': True, 'location': 'Beaverton, Oregon', 'profile_pic_url': 'https://pbs.twimg.com/profile_images/1808501290001203200/Kc7kRCkj_normal.jpg', 'profile_banner_url': 'https://pbs.twimg.com/profile_banners/415859364/1720015298', 'description': 'Nike Air. Engineered to the exact specifications of championship athletes. #WinOnAir', 'external_url': 'https://t.co/keUPAwboWl', 'number_of_tweets': 38966, 'bot': False, 'timestamp': 1321655478, 'has_nft_avatar': False, 'category': None, 'default_profile': False, 'default_profile_image': False, 'listed_count': None, 'verified_type': 'Business'}, 'language': 'en', 'favorite_count': 257, 'retweet_count': 28, 'reply_count': 23, 'quote_count': 1, 'retweet': False, 'views': 79136, 'timestamp': 1721052163, 'video_view_count': None, 'in_reply_to_status_id': None, 'quoted_status_id': None, 'binding_values': None, 'expanded_url': None, 'retweet_tweet_id': None, 'extended_entities': {'media': [{'display_url': 'pic.twitter.com/SURKzzHQvm', 'expanded_url': 'https://twitter.com/Nike/status/1812850282369601855/photo/1', 'ext_media_availability': {'status': 'Available'}, 'features': {'large': {'faces': [{'x': 619, 'y': 234, 'h': 177, 'w': 177}]}}, 'id_str': '1812850274844708864', 'indices': [85, 108], 'media_key': '3_1812850274844708864', 'media_url_https': 'https://pbs.twimg.com/media/GSiJuFcWkAA5xE_.jpg', 'original_info': {'width': 1080, 'height': 1350, 'focus_rects': [{'x': 0, 'y': 1, 'w': 1080, 'h': 605}, {'x': 0, 'y': 0, 'w': 1080, 'h': 1080}, {'x': 0, 'y': 0, 'w': 1080, 'h': 1231}, {'x': 0, 'y': 0, 'w': 675, 'h': 1350}, {'x': 0, 'y': 0, 'w': 1080, 'h': 1350}]}, 'sizes': {'large': {'w': 1080, 'h': 1350}}, 'type': 'photo', 'url': 'https://t.co/SURKzzHQvm'}, {'display_url': 'pic.twitter.com/SURKzzHQvm', 'expanded_url': 'https://twitter.com/Nike/status/1812850282369601855/photo/1', 'ext_media_availability': {'status': 'Available'}, 'features': {'large': {'faces': [{'x': 909, 'y': 123, 'h': 75, 'w': 75}, {'x': 719, 'y': 135, 'h': 129, 'w': 129}]}}, 'id_str': '1812850274848960512', 'indices': [85, 108], 'media_key': '3_1812850274848960512', 'media_url_https': 'https://pbs.twimg.com/media/GSiJuFdXcAAjO18.jpg', 'original_info': {'width': 1080, 'height': 1350, 'focus_rects': [{'x': 0, 'y': 69, 'w': 1080, 'h': 605}, {'x': 0, 'y': 0, 'w': 1080, 'h': 1080}, {'x': 0, 'y': 0, 'w': 1080, 'h': 1231}, {'x': 0, 'y': 0, 'w': 675, 'h': 1350}, {'x': 0, 'y': 0, 'w': 1080, 'h': 1350}]}, 'sizes': {'large': {'w': 1080, 'h': 1350}}, 'type': 'photo', 'url': 'https://t.co/SURKzzHQvm'}]}, 'conversation_id': '1812850282369601855', 'retweet_status': None, 'quoted_status': None, 'bookmark_count': 8, 'source': None, 'community_note': None}, {'tweet_id': '1812515232155394409', 'creation_date': 'Sun Jul 14 15:51:20 +0000 2024', 'text': 'If you never risk it all, you’ll never win it all. 🔥 @carlosalcaraz 🏆 https://t.co/BUvMWRptRO', 'media_url': ['https://pbs.twimg.com/media/GSdY_2PW8AAsinw.jpg'], 'video_url': None, 'user': {'creation_date': 'Fri Nov 18 22:31:18 +0000 2011', 'user_id': '415859364', 'username': 'Nike', 'name': 'Nike', 'follower_count': 10209610, 'following_count': 120, 'favourites_count': 7114, 'is_private': False, 'is_verified': False, 'is_blue_verified': True, 'location': 'Beaverton, Oregon', 'profile_pic_url': 'https://pbs.twimg.com/profile_images/1808501290001203200/Kc7kRCkj_normal.jpg', 'profile_banner_url': 'https://pbs.twimg.com/profile_banners/415859364/1720015298', 'description': 'Nike Air. Engineered to the exact specifications of championship athletes. #WinOnAir', 'external_url': 'https://t.co/keUPAwboWl', 'number_of_tweets': 38966, 'bot': False, 'timestamp': 1321655478, 'has_nft_avatar': False, 'category': None, 'default_profile': False, 'default_profile_image': False, 'listed_count': None, 'verified_type': 'Business'}, 'language': 'en', 'favorite_count': 13515, 'retweet_count': 1579, 'reply_count': 128, 'quote_count': 97, 'retweet': False, 'views': 549161, 'timestamp': 1720972280, 'video_view_count': None, 'in_reply_to_status_id': None, 'quoted_status_id': None, 'binding_values': None, 'expanded_url': None, 'retweet_tweet_id': None, 'extended_entities': {'media': [{'display_url': 'pic.twitter.com/BUvMWRptRO', 'expanded_url': 'https://twitter.com/Nike/status/1812515232155394409/photo/1', 'ext_media_availability': {'status': 'Available'}, 'features': {'all': {'tags': [{'user_id': '1216633327156965376', 'name': 'Carlos Alcaraz', 'screen_name': 'carlosalcaraz'}]}, 'large': {'faces': [{'x': 561, 'y': 139, 'h': 127, 'w': 127}]}}, 'id_str': '1812515228954849280', 'indices': [70, 93], 'media_key': '3_1812515228954849280', 'media_url_https': 'https://pbs.twimg.com/media/GSdY_2PW8AAsinw.jpg', 'original_info': {'width': 1080, 'height': 1350, 'focus_rects': [{'x': 0, 'y': 1, 'w': 1080, 'h': 605}, {'x': 0, 'y': 0, 'w': 1080, 'h': 1080}, {'x': 0, 'y': 0, 'w': 1080, 'h': 1231}, {'x': 0, 'y': 0, 'w': 675, 'h': 1350}, {'x': 0, 'y': 0, 'w': 1080, 'h': 1350}]}, 'sizes': {'large': {'w': 1080, 'h': 1350}}, 'type': 'photo', 'url': 'https://t.co/BUvMWRptRO', 'allow_download_status': {'allow_download': True}}]}, 'conversation_id': '1812515232155394409', 'retweet_status': None, 'quoted_status': None, 'bookmark_count': 252, 'source': None, 'community_note': None}, {'tweet_id': '1808513775785705858', 'creation_date': 'Wed Jul 03 14:50:59 +0000 2024', 'text': 'Win On Air\\u202f \\nShop Nike Air: https://t.co/ARzIoDgaUW\\n#WinOnAir', 'media_url': None, 'video_url': None, 'user': {'creation_date': 'Fri Nov 18 22:31:18 +0000 2011', 'user_id': '415859364', 'username': 'Nike', 'name': 'Nike', 'follower_count': 10209610, 'following_count': 120, 'favourites_count': 7114, 'is_private': False, 'is_verified': False, 'is_blue_verified': True, 'location': 'Beaverton, Oregon', 'profile_pic_url': 'https://pbs.twimg.com/profile_images/1808501290001203200/Kc7kRCkj_normal.jpg', 'profile_banner_url': 'https://pbs.twimg.com/profile_banners/415859364/1720015298', 'description': 'Nike Air. Engineered to the exact specifications of championship athletes. #WinOnAir', 'external_url': 'https://t.co/keUPAwboWl', 'number_of_tweets': 38966, 'bot': False, 'timestamp': 1321655478, 'has_nft_avatar': False, 'category': None, 'default_profile': False, 'default_profile_image': False, 'listed_count': None, 'verified_type': 'Business'}, 'language': 'en', 'favorite_count': 88, 'retweet_count': 31, 'reply_count': 27, 'quote_count': 1, 'retweet': False, 'views': 64764, 'timestamp': 1720018259, 'video_view_count': None, 'in_reply_to_status_id': '1808513773885661466', 'quoted_status_id': None, 'binding_values': None, 'expanded_url': 'https://www.nike.com/w/zoom-air-shoes-8y8c6zy7ok?cp=38843871489_osoc_', 'retweet_tweet_id': None, 'extended_entities': None, 'conversation_id': '1808513735981695377', 'retweet_status': None, 'quoted_status': None, 'bookmark_count': 3, 'source': None, 'community_note': None}, {'tweet_id': '1808513773885661466', 'creation_date': 'Wed Jul 03 14:50:58 +0000 2024', 'text': 'The carbon plate paired with two Air Zoom units underfoot help you reach and maintain your top speed.', 'media_url': None, 'video_url': None, 'user': {'creation_date': 'Fri Nov 18 22:31:18 +0000 2011', 'user_id': '415859364', 'username': 'Nike', 'name': 'Nike', 'follower_count': 10209610, 'following_count': 120, 'favourites_count': 7114, 'is_private': False, 'is_verified': False, 'is_blue_verified': True, 'location': 'Beaverton, Oregon', 'profile_pic_url': 'https://pbs.twimg.com/profile_images/1808501290001203200/Kc7kRCkj_normal.jpg', 'profile_banner_url': 'https://pbs.twimg.com/profile_banners/415859364/1720015298', 'description': 'Nike Air. Engineered to the exact specifications of championship athletes. #WinOnAir', 'external_url': 'https://t.co/keUPAwboWl', 'number_of_tweets': 38966, 'bot': False, 'timestamp': 1321655478, 'has_nft_avatar': False, 'category': None, 'default_profile': False, 'default_profile_image': False, 'listed_count': None, 'verified_type': 'Business'}, 'language': 'en', 'favorite_count': 93, 'retweet_count': 25, 'reply_count': 137, 'quote_count': 1, 'retweet': False, 'views': 67272, 'timestamp': 1720018258, 'video_view_count': None, 'in_reply_to_status_id': '1808513771490640214', 'quoted_status_id': None, 'binding_values': None, 'expanded_url': None, 'retweet_tweet_id': None, 'extended_entities': None, 'conversation_id': '1808513735981695377', 'retweet_status': None, 'quoted_status': None, 'bookmark_count': 4, 'source': None, 'community_note': None}, {'tweet_id': '1808513771490640214', 'creation_date': 'Wed Jul 03 14:50:58 +0000 2024', 'text': 'Nike Maxfly 2. Fly to the finish https://t.co/Kr5tKpTCbo', 'media_url': ['https://pbs.twimg.com/media/GRkhsIyaMAAWfNQ.jpg'], 'video_url': None, 'user': {'creation_date': 'Fri Nov 18 22:31:18 +0000 2011', 'user_id': '415859364', 'username': 'Nike', 'name': 'Nike', 'follower_count': 10209610, 'following_count': 120, 'favourites_count': 7114, 'is_private': False, 'is_verified': False, 'is_blue_verified': True, 'location': 'Beaverton, Oregon', 'profile_pic_url': 'https://pbs.twimg.com/profile_images/1808501290001203200/Kc7kRCkj_normal.jpg', 'profile_banner_url': 'https://pbs.twimg.com/profile_banners/415859364/1720015298', 'description': 'Nike Air. Engineered to the exact specifications of championship athletes. #WinOnAir', 'external_url': 'https://t.co/keUPAwboWl', 'number_of_tweets': 38966, 'bot': False, 'timestamp': 1321655478, 'has_nft_avatar': False, 'category': None, 'default_profile': False, 'default_profile_image': False, 'listed_count': None, 'verified_type': 'Business'}, 'language': 'en', 'favorite_count': 202, 'retweet_count': 34, 'reply_count': 44, 'quote_count': 5, 'retweet': False, 'views': 101590, 'timestamp': 1720018258, 'video_view_count': None, 'in_reply_to_status_id': '1808513765706776943', 'quoted_status_id': None, 'binding_values': None, 'expanded_url': None, 'retweet_tweet_id': None, 'extended_entities': {'media': [{'display_url': 'pic.twitter.com/Kr5tKpTCbo', 'expanded_url': 'https://twitter.com/Nike/status/1808513771490640214/photo/1', 'ext_alt_text': 'Isometric side view of a single Maxfly 2 sprint spikes  in Blueprint colorway. White upper with a speckled blue swoosh, orange Air Zoom units.', 'ext_media_availability': {'status': 'Available'}, 'features': {'large': {'faces': []}}, 'id_str': '1808513767522840576', 'indices': [33, 56], 'media_key': '3_1808513767522840576', 'media_url_https': 'https://pbs.twimg.com/media/GRkhsIyaMAAWfNQ.jpg', 'original_info': {'width': 1200, 'height': 1200, 'focus_rects': [{'x': 0, 'y': 234, 'w': 1200, 'h': 672}, {'x': 0, 'y': 0, 'w': 1200, 'h': 1200}, {'x': 0, 'y': 0, 'w': 1053, 'h': 1200}, {'x': 210, 'y': 0, 'w': 600, 'h': 1200}, {'x': 0, 'y': 0, 'w': 1200, 'h': 1200}]}, 'sizes': {'large': {'w': 1200, 'h': 1200}}, 'type': 'photo', 'url': 'https://t.co/Kr5tKpTCbo', 'allow_download_status': {'allow_download': True}}]}, 'conversation_id': '1808513735981695377', 'retweet_status': None, 'quoted_status': None, 'bookmark_count': 12, 'source': None, 'community_note': None}, {'tweet_id': '1808513765706776943', 'creation_date': 'Wed Jul 03 14:50:56 +0000 2024', 'text': 'Air Zoom in the forefoot delivers energy return to help you stay fresh through the final buzzer.', 'media_url': None, 'video_url': None, 'user': {'creation_date': 'Fri Nov 18 22:31:18 +0000 2011', 'user_id': '415859364', 'username': 'Nike', 'name': 'Nike', 'follower_count': 10209610, 'following_count': 120, 'favourites_count': 7114, 'is_private': False, 'is_verified': False, 'is_blue_verified': True, 'location': 'Beaverton, Oregon', 'profile_pic_url': 'https://pbs.twimg.com/profile_images/1808501290001203200/Kc7kRCkj_normal.jpg', 'profile_banner_url': 'https://pbs.twimg.com/profile_banners/415859364/1720015298', 'description': 'Nike Air. Engineered to the exact specifications of championship athletes. #WinOnAir', 'external_url': 'https://t.co/keUPAwboWl', 'number_of_tweets': 38966, 'bot': False, 'timestamp': 1321655478, 'has_nft_avatar': False, 'category': None, 'default_profile': False, 'default_profile_image': False, 'listed_count': None, 'verified_type': 'Business'}, 'language': 'en', 'favorite_count': 94, 'retweet_count': 20, 'reply_count': 19, 'quote_count': 0, 'retweet': False, 'views': 67132, 'timestamp': 1720018256, 'video_view_count': None, 'in_reply_to_status_id': '1808513763282464963', 'quoted_status_id': None, 'binding_values': None, 'expanded_url': None, 'retweet_tweet_id': None, 'extended_entities': None, 'conversation_id': '1808513735981695377', 'retweet_status': None, 'quoted_status': None, 'bookmark_count': 3, 'source': None, 'community_note': None}, {'tweet_id': '1808513763282464963', 'creation_date': 'Wed Jul 03 14:50:56 +0000 2024', 'text': 'Nike G.T. Hustle 3. Outlast your opponents. https://t.co/PE5Ualdiz1', 'media_url': ['https://pbs.twimg.com/media/GRkhrkEbUAARHw-.jpg'], 'video_url': None, 'user': {'creation_date': 'Fri Nov 18 22:31:18 +0000 2011', 'user_id': '415859364', 'username': 'Nike', 'name': 'Nike', 'follower_count': 10209610, 'following_count': 120, 'favourites_count': 7114, 'is_private': False, 'is_verified': False, 'is_blue_verified': True, 'location': 'Beaverton, Oregon', 'profile_pic_url': 'https://pbs.twimg.com/profile_images/1808501290001203200/Kc7kRCkj_normal.jpg', 'profile_banner_url': 'https://pbs.twimg.com/profile_banners/415859364/1720015298', 'description': 'Nike Air. Engineered to the exact specifications of championship athletes. #WinOnAir', 'external_url': 'https://t.co/keUPAwboWl', 'number_of_tweets': 38966, 'bot': False, 'timestamp': 1321655478, 'has_nft_avatar': False, 'category': None, 'default_profile': False, 'default_profile_image': False, 'listed_count': None, 'verified_type': 'Business'}, 'language': 'en', 'favorite_count': 196, 'retweet_count': 29, 'reply_count': 17, 'quote_count': 1, 'retweet': False, 'views': 66265, 'timestamp': 1720018256, 'video_view_count': None, 'in_reply_to_status_id': '1808513755875320026', 'quoted_status_id': None, 'binding_values': None, 'expanded_url': None, 'retweet_tweet_id': None, 'extended_entities': {'media': [{'display_url': 'pic.twitter.com/PE5Ualdiz1', 'expanded_url': 'https://twitter.com/Nike/status/1808513763282464963/photo/1', 'ext_alt_text': 'Isometric side view of a single Nike GT Hustle 3 basketball shoe in Blueprint colorway. White upper with a speckled blue swoosh, orange Air Zoom units, and a gum sole tread.', 'ext_media_availability': {'status': 'Available'}, 'features': {'large': {'faces': []}}, 'id_str': '1808513757666299904', 'indices': [44, 67], 'media_key': '3_1808513757666299904', 'media_url_https': 'https://pbs.twimg.com/media/GRkhrkEbUAARHw-.jpg', 'original_info': {'width': 1200, 'height': 1200, 'focus_rects': [{'x': 0, 'y': 414, 'w': 1200, 'h': 672}, {'x': 0, 'y': 0, 'w': 1200, 'h': 1200}, {'x': 0, 'y': 0, 'w': 1053, 'h': 1200}, {'x': 210, 'y': 0, 'w': 600, 'h': 1200}, {'x': 0, 'y': 0, 'w': 1200, 'h': 1200}]}, 'sizes': {'large': {'w': 1200, 'h': 1200}}, 'type': 'photo', 'url': 'https://t.co/PE5Ualdiz1', 'allow_download_status': {'allow_download': True}}]}, 'conversation_id': '1808513735981695377', 'retweet_status': None, 'quoted_status': None, 'bookmark_count': 10, 'source': None, 'community_note': None}, {'tweet_id': '1808513753291575446', 'creation_date': 'Wed Jul 03 14:50:54 +0000 2024', 'text': 'Nike Mercurial Superfly. Next level speed. https://t.co/W735wi3BZm', 'media_url': ['https://pbs.twimg.com/media/GRkhrFFb0AA1W7L.jpg'], 'video_url': None, 'user': {'creation_date': 'Fri Nov 18 22:31:18 +0000 2011', 'user_id': '415859364', 'username': 'Nike', 'name': 'Nike', 'follower_count': 10209610, 'following_count': 120, 'favourites_count': 7114, 'is_private': False, 'is_verified': False, 'is_blue_verified': True, 'location': 'Beaverton, Oregon', 'profile_pic_url': 'https://pbs.twimg.com/profile_images/1808501290001203200/Kc7kRCkj_normal.jpg', 'profile_banner_url': 'https://pbs.twimg.com/profile_banners/415859364/1720015298', 'description': 'Nike Air. Engineered to the exact specifications of championship athletes. #WinOnAir', 'external_url': 'https://t.co/keUPAwboWl', 'number_of_tweets': 38966, 'bot': False, 'timestamp': 1321655478, 'has_nft_avatar': False, 'category': None, 'default_profile': False, 'default_profile_image': False, 'listed_count': None, 'verified_type': 'Business'}, 'language': 'en', 'favorite_count': 208, 'retweet_count': 34, 'reply_count': 24, 'quote_count': 1, 'retweet': False, 'views': 67924, 'timestamp': 1720018254, 'video_view_count': None, 'in_reply_to_status_id': '1808513747503489230', 'quoted_status_id': None, 'binding_values': None, 'expanded_url': None, 'retweet_tweet_id': None, 'extended_entities': {'media': [{'display_url': 'pic.twitter.com/W735wi3BZm', 'expanded_url': 'https://twitter.com/Nike/status/1808513753291575446/photo/1', 'ext_alt_text': 'Isometric side view of a single Mecurial Superfly 10 football boot in Blueprint colorway. White upper with a speckled blue swoosh, orange Air Zoom unit, and iridescent yellow orange sole plate.', 'ext_media_availability': {'status': 'Available'}, 'features': {'large': {'faces': []}}, 'id_str': '1808513749349027840', 'indices': [43, 66], 'media_key': '3_1808513749349027840', 'media_url_https': 'https://pbs.twimg.com/media/GRkhrFFb0AA1W7L.jpg', 'original_info': {'width': 1200, 'height': 1200, 'focus_rects': [{'x': 0, 'y': 0, 'w': 1200, 'h': 672}, {'x': 0, 'y': 0, 'w': 1200, 'h': 1200}, {'x': 147, 'y': 0, 'w': 1053, 'h': 1200}, {'x': 570, 'y': 0, 'w': 600, 'h': 1200}, {'x': 0, 'y': 0, 'w': 1200, 'h': 1200}]}, 'sizes': {'large': {'w': 1200, 'h': 1200}}, 'type': 'photo', 'url': 'https://t.co/W735wi3BZm', 'allow_download_status': {'allow_download': True}}]}, 'conversation_id': '1808513735981695377', 'retweet_status': None, 'quoted_status': None, 'bookmark_count': 7, 'source': None, 'community_note': None}, {'tweet_id': '1808513755875320026', 'creation_date': 'Wed Jul 03 14:50:54 +0000 2024', 'text': 'An Air Zoom unit is built into the traction plate to help you accelerate to top speed.', 'media_url': None, 'video_url': None, 'user': {'creation_date': 'Fri Nov 18 22:31:18 +0000 2011', 'user_id': '415859364', 'username': 'Nike', 'name': 'Nike', 'follower_count': 10209610, 'following_count': 120, 'favourites_count': 7114, 'is_private': False, 'is_verified': False, 'is_blue_verified': True, 'location': 'Beaverton, Oregon', 'profile_pic_url': 'https://pbs.twimg.com/profile_images/1808501290001203200/Kc7kRCkj_normal.jpg', 'profile_banner_url': 'https://pbs.twimg.com/profile_banners/415859364/1720015298', 'description': 'Nike Air. Engineered to the exact specifications of championship athletes. #WinOnAir', 'external_url': 'https://t.co/keUPAwboWl', 'number_of_tweets': 38966, 'bot': False, 'timestamp': 1321655478, 'has_nft_avatar': False, 'category': None, 'default_profile': False, 'default_profile_image': False, 'listed_count': None, 'verified_type': 'Business'}, 'language': 'en', 'favorite_count': 78, 'retweet_count': 21, 'reply_count': 17, 'quote_count': 0, 'retweet': False, 'views': 55628, 'timestamp': 1720018254, 'video_view_count': None, 'in_reply_to_status_id': '1808513753291575446', 'quoted_status_id': None, 'binding_values': None, 'expanded_url': None, 'retweet_tweet_id': None, 'extended_entities': None, 'conversation_id': '1808513735981695377', 'retweet_status': None, 'quoted_status': None, 'bookmark_count': 1, 'source': None, 'community_note': None}, {'tweet_id': '1808513747503489230', 'creation_date': 'Wed Jul 03 14:50:52 +0000 2024', 'text': 'Air Zoom units in the heel and forefoot deliver exceptional energy return.', 'media_url': None, 'video_url': None, 'user': {'creation_date': 'Fri Nov 18 22:31:18 +0000 2011', 'user_id': '415859364', 'username': 'Nike', 'name': 'Nike', 'follower_count': 10209610, 'following_count': 120, 'favourites_count': 7114, 'is_private': False, 'is_verified': False, 'is_blue_verified': True, 'location': 'Beaverton, Oregon', 'profile_pic_url': 'https://pbs.twimg.com/profile_images/1808501290001203200/Kc7kRCkj_normal.jpg', 'profile_banner_url': 'https://pbs.twimg.com/profile_banners/415859364/1720015298', 'description': 'Nike Air. Engineered to the exact specifications of championship athletes. #WinOnAir', 'external_url': 'https://t.co/keUPAwboWl', 'number_of_tweets': 38966, 'bot': False, 'timestamp': 1321655478, 'has_nft_avatar': False, 'category': None, 'default_profile': False, 'default_profile_image': False, 'listed_count': None, 'verified_type': 'Business'}, 'language': 'en', 'favorite_count': 92, 'retweet_count': 21, 'reply_count': 15, 'quote_count': 0, 'retweet': False, 'views': 46665, 'timestamp': 1720018252, 'video_view_count': None, 'in_reply_to_status_id': '1808513744567423428', 'quoted_status_id': None, 'binding_values': None, 'expanded_url': None, 'retweet_tweet_id': None, 'extended_entities': None, 'conversation_id': '1808513735981695377', 'retweet_status': None, 'quoted_status': None, 'bookmark_count': 2, 'source': None, 'community_note': None}, {'tweet_id': '1808513744567423428', 'creation_date': 'Wed Jul 03 14:50:51 +0000 2024', 'text': 'Nike Pegasus 41. Maximize every stride. https://t.co/ogMwTiWRSv', 'media_url': ['https://pbs.twimg.com/media/GRkhqjUbMAAgP1p.jpg'], 'video_url': None, 'user': {'creation_date': 'Fri Nov 18 22:31:18 +0000 2011', 'user_id': '415859364', 'username': 'Nike', 'name': 'Nike', 'follower_count': 10209610, 'following_count': 120, 'favourites_count': 7114, 'is_private': False, 'is_verified': False, 'is_blue_verified': True, 'location': 'Beaverton, Oregon', 'profile_pic_url': 'https://pbs.twimg.com/profile_images/1808501290001203200/Kc7kRCkj_normal.jpg', 'profile_banner_url': 'https://pbs.twimg.com/profile_banners/415859364/1720015298', 'description': 'Nike Air. Engineered to the exact specifications of championship athletes. #WinOnAir', 'external_url': 'https://t.co/keUPAwboWl', 'number_of_tweets': 38966, 'bot': False, 'timestamp': 1321655478, 'has_nft_avatar': False, 'category': None, 'default_profile': False, 'default_profile_image': False, 'listed_count': None, 'verified_type': 'Business'}, 'language': 'en', 'favorite_count': 257, 'retweet_count': 33, 'reply_count': 13, 'quote_count': 2, 'retweet': False, 'views': 56446, 'timestamp': 1720018251, 'video_view_count': None, 'in_reply_to_status_id': '1808513738435371062', 'quoted_status_id': None, 'binding_values': None, 'expanded_url': None, 'retweet_tweet_id': None, 'extended_entities': {'media': [{'display_url': 'pic.twitter.com/ogMwTiWRSv', 'expanded_url': 'https://twitter.com/Nike/status/1808513744567423428/photo/1', 'ext_alt_text': 'Isometric side view of a single Nike Pegasus 41 running shoe in Blueprint colorway. White upper with a speckled blue swoosh and an orange midsole accent.', 'ext_media_availability': {'status': 'Available'}, 'features': {'large': {'faces': []}}, 'id_str': '1808513740285095936', 'indices': [40, 63], 'media_key': '3_1808513740285095936', 'media_url_https': 'https://pbs.twimg.com/media/GRkhqjUbMAAgP1p.jpg', 'original_info': {'width': 1200, 'height': 1200, 'focus_rects': [{'x': 0, 'y': 54, 'w': 1200, 'h': 672}, {'x': 0, 'y': 0, 'w': 1200, 'h': 1200}, {'x': 44, 'y': 0, 'w': 1053, 'h': 1200}, {'x': 270, 'y': 0, 'w': 600, 'h': 1200}, {'x': 0, 'y': 0, 'w': 1200, 'h': 1200}]}, 'sizes': {'large': {'w': 1200, 'h': 1200}}, 'type': 'photo', 'url': 'https://t.co/ogMwTiWRSv', 'allow_download_status': {'allow_download': True}}]}, 'conversation_id': '1808513735981695377', 'retweet_status': None, 'quoted_status': None, 'bookmark_count': 16, 'source': None, 'community_note': None}, {'tweet_id': '1808513738435371062', 'creation_date': 'Wed Jul 03 14:50:50 +0000 2024', 'text': 'Air Zoom units absorb impact from the road and returns the energy back to you, launching you into the next step.', 'media_url': None, 'video_url': None, 'user': {'creation_date': 'Fri Nov 18 22:31:18 +0000 2011', 'user_id': '415859364', 'username': 'Nike', 'name': 'Nike', 'follower_count': 10209610, 'following_count': 120, 'favourites_count': 7114, 'is_private': False, 'is_verified': False, 'is_blue_verified': True, 'location': 'Beaverton, Oregon', 'profile_pic_url': 'https://pbs.twimg.com/profile_images/1808501290001203200/Kc7kRCkj_normal.jpg', 'profile_banner_url': 'https://pbs.twimg.com/profile_banners/415859364/1720015298', 'description': 'Nike Air. Engineered to the exact specifications of championship athletes. #WinOnAir', 'external_url': 'https://t.co/keUPAwboWl', 'number_of_tweets': 38966, 'bot': False, 'timestamp': 1321655478, 'has_nft_avatar': False, 'category': None, 'default_profile': False, 'default_profile_image': False, 'listed_count': None, 'verified_type': 'Business'}, 'language': 'en', 'favorite_count': 89, 'retweet_count': 21, 'reply_count': 16, 'quote_count': 0, 'retweet': False, 'views': 17861, 'timestamp': 1720018250, 'video_view_count': None, 'in_reply_to_status_id': '1808513735981695377', 'quoted_status_id': None, 'binding_values': None, 'expanded_url': None, 'retweet_tweet_id': None, 'extended_entities': None, 'conversation_id': '1808513735981695377', 'retweet_status': None, 'quoted_status': None, 'bookmark_count': 2, 'source': None, 'community_note': None}, {'tweet_id': '1808513735981695377', 'creation_date': 'Wed Jul 03 14:50:49 +0000 2024', 'text': 'Nike Alphafly 3. Built for your fastest marathon, ever. Check the lineup 👉 https://t.co/vsXGFKwjwV', 'media_url': ['https://pbs.twimg.com/media/GRkhqD-bkAAYClk.jpg'], 'video_url': None, 'user': {'creation_date': 'Fri Nov 18 22:31:18 +0000 2011', 'user_id': '415859364', 'username': 'Nike', 'name': 'Nike', 'follower_count': 10209610, 'following_count': 120, 'favourites_count': 7114, 'is_private': False, 'is_verified': False, 'is_blue_verified': True, 'location': 'Beaverton, Oregon', 'profile_pic_url': 'https://pbs.twimg.com/profile_images/1808501290001203200/Kc7kRCkj_normal.jpg', 'profile_banner_url': 'https://pbs.twimg.com/profile_banners/415859364/1720015298', 'description': 'Nike Air. Engineered to the exact specifications of championship athletes. #WinOnAir', 'external_url': 'https://t.co/keUPAwboWl', 'number_of_tweets': 38966, 'bot': False, 'timestamp': 1321655478, 'has_nft_avatar': False, 'category': None, 'default_profile': False, 'default_profile_image': False, 'listed_count': None, 'verified_type': 'Business'}, 'language': 'en', 'favorite_count': 1525, 'retweet_count': 179, 'reply_count': 44, 'quote_count': 18, 'retweet': False, 'views': 888670, 'timestamp': 1720018249, 'video_view_count': None, 'in_reply_to_status_id': None, 'quoted_status_id': None, 'binding_values': None, 'expanded_url': None, 'retweet_tweet_id': None, 'extended_entities': {'media': [{'display_url': 'pic.twitter.com/vsXGFKwjwV', 'expanded_url': 'https://twitter.com/Nike/status/1808513735981695377/photo/1', 'ext_alt_text': 'Isometric side view of a single Nike Alphafly marathon shoe in Blueprint colorway. White upper with a speckled blue swoosh, orange Air Zoom units, and black sole tread.', 'ext_media_availability': {'status': 'Available'}, 'features': {'large': {'faces': [{'x': 337, 'y': 544, 'h': 58, 'w': 58}, {'x': 373, 'y': 444, 'h': 77, 'w': 77}]}}, 'id_str': '1808513731871346688', 'indices': [75, 98], 'media_key': '3_1808513731871346688', 'media_url_https': 'https://pbs.twimg.com/media/GRkhqD-bkAAYClk.jpg', 'original_info': {'width': 1200, 'height': 1200, 'focus_rects': [{'x': 0, 'y': 0, 'w': 1200, 'h': 672}, {'x': 0, 'y': 0, 'w': 1200, 'h': 1200}, {'x': 147, 'y': 0, 'w': 1053, 'h': 1200}, {'x': 450, 'y': 0, 'w': 600, 'h': 1200}, {'x': 0, 'y': 0, 'w': 1200, 'h': 1200}]}, 'sizes': {'large': {'w': 1200, 'h': 1200}}, 'type': 'photo', 'url': 'https://t.co/vsXGFKwjwV', 'allow_download_status': {'allow_download': True}}]}, 'conversation_id': '1808513735981695377', 'retweet_status': None, 'quoted_status': None, 'bookmark_count': 152, 'source': None, 'community_note': None}, {'tweet_id': '1805633137763901844', 'creation_date': 'Tue Jun 25 16:04:21 +0000 2024', 'text': 'RT @nikebasketball: Crafted for more game.\\n\\nThe Sabrina 2 was made for hoopers of all ages who do it all on the court.\\n\\nShop now in North A…', 'media_url': None, 'video_url': None, 'user': {'creation_date': 'Fri Nov 18 22:31:18 +0000 2011', 'user_id': '415859364', 'username': 'Nike', 'name': 'Nike', 'follower_count': 10209610, 'following_count': 120, 'favourites_count': 7114, 'is_private': False, 'is_verified': False, 'is_blue_verified': True, 'location': 'Beaverton, Oregon', 'profile_pic_url': 'https://pbs.twimg.com/profile_images/1808501290001203200/Kc7kRCkj_normal.jpg', 'profile_banner_url': 'https://pbs.twimg.com/profile_banners/415859364/1720015298', 'description': 'Nike Air. Engineered to the exact specifications of championship athletes. #WinOnAir', 'external_url': 'https://t.co/keUPAwboWl', 'number_of_tweets': 38966, 'bot': False, 'timestamp': 1321655478, 'has_nft_avatar': False, 'category': None, 'default_profile': False, 'default_profile_image': False, 'listed_count': None, 'verified_type': 'Business'}, 'language': 'en', 'favorite_count': 0, 'retweet_count': 68, 'reply_count': 0, 'quote_count': 0, 'retweet': True, 'views': 2, 'timestamp': 1719331461, 'video_view_count': None, 'in_reply_to_status_id': None, 'quoted_status_id': None, 'binding_values': [{'key': 'unified_card', 'value': {'string_value': '{\"type\":\"image_website\",\"component_objects\":{\"details_1\":{\"type\":\"details\",\"data\":{\"title\":{\"content\":\"Shop Now\",\"is_rtl\":false},\"subtitle\":{\"content\":\"nike.com\",\"is_rtl\":false},\"destination\":\"browser_1\"}},\"media_1\":{\"type\":\"media\",\"data\":{\"id\":\"3_1805598554804666368\",\"destination\":\"browser_1\"}}},\"destination_objects\":{\"browser_1\":{\"type\":\"browser\",\"data\":{\"url_data\":{\"url\":\"https://www.nike.com/t/sabrina-2-court-vision-basketball-shoes-NM2JwV/FQ2174-500?cp=16923160692_osoc_\",\"vanity\":\"nike.com\"}}}},\"components\":[\"media_1\",\"details_1\"],\"media_entities\":{\"3_1805598554804666368\":{\"id\":1805598554804666368,\"id_str\":\"1805598554804666368\",\"indices\":[0,0],\"media_url\":\"\",\"media_url_https\":\"https://pbs.twimg.com/media/GQ7GUbIXQAAa7ff.jpg\",\"url\":\"\",\"display_url\":\"\",\"expanded_url\":\"\",\"type\":\"photo\",\"original_info\":{\"width\":1080,\"height\":1080,\"focus_rects\":[{\"x\":0,\"y\":0,\"h\":605,\"w\":1080},{\"x\":0,\"y\":0,\"h\":1080,\"w\":1080},{\"x\":133,\"y\":0,\"h\":1080,\"w\":947},{\"x\":405,\"y\":0,\"h\":1080,\"w\":540},{\"x\":0,\"y\":0,\"h\":1080,\"w\":1080}]},\"sizes\":{\"medium\":{\"w\":1080,\"h\":1080,\"resize\":\"fit\"},\"thumb\":{\"w\":150,\"h\":150,\"resize\":\"crop\"},\"small\":{\"w\":680,\"h\":680,\"resize\":\"fit\"},\"large\":{\"w\":1080,\"h\":1080,\"resize\":\"fit\"}},\"source_user_id\":5885732,\"source_user_id_str\":\"5885732\",\"media_key\":\"3_1805598554804666368\",\"ext\":{\"mediaColor\":{\"r\":{\"ok\":{\"palette\":[{\"rgb\":{\"red\":8,\"green\":17,\"blue\":16},\"percentage\":90.88},{\"rgb\":{\"red\":169,\"green\":145,\"blue\":172},\"percentage\":2.87},{\"rgb\":{\"red\":90,\"green\":67,\"blue\":100},\"percentage\":2.28},{\"rgb\":{\"red\":78,\"green\":65,\"blue\":49},\"percentage\":0.8},{\"rgb\":{\"red\":230,\"green\":211,\"blue\":146},\"percentage\":0.44}]}},\"ttl\":-1}}}}}'}}, {'key': 'card_url', 'value': {'scribe_key': 'card_url', 'string_value': 'https://twitter.com'}}], 'expanded_url': None, 'retweet_tweet_id': '1805632948051304871', 'extended_entities': None, 'conversation_id': '1805633137763901844', 'retweet_status': {'tweet_id': '1805632948051304871', 'creation_date': 'Tue Jun 25 16:03:36 +0000 2024', 'text': 'Crafted for more game.\\n\\nThe Sabrina 2 was made for hoopers of all ages who do it all on the court.\\n\\nShop now in North America. Available globally June 28.', 'media_url': None, 'video_url': None, 'user': {'creation_date': 'Wed May 09 03:45:59 +0000 2007', 'user_id': '5885732', 'username': 'nikebasketball', 'name': 'Nike Basketball', 'follower_count': 2523153, 'following_count': 272, 'favourites_count': 13484, 'is_private': False, 'is_verified': False, 'is_blue_verified': True, 'location': 'Beaverton, Oregon', 'profile_pic_url': 'https://pbs.twimg.com/profile_images/1808502256939188224/Zgzz0cMn_normal.jpg', 'profile_banner_url': 'https://pbs.twimg.com/profile_banners/5885732/1720015531', 'description': 'Nike Air. Engineered to the exact specifications of championship athletes. #WinOnAir', 'external_url': 'https://t.co/OdBumNkLMQ', 'number_of_tweets': 40359, 'bot': False, 'timestamp': 1178682359, 'has_nft_avatar': False, 'category': None, 'default_profile': False, 'default_profile_image': False, 'listed_count': None, 'verified_type': 'Business'}, 'language': 'en', 'favorite_count': 465, 'retweet_count': 68, 'reply_count': 69, 'quote_count': 13, 'retweet': False, 'views': 119503, 'timestamp': 1719331416, 'video_view_count': None, 'in_reply_to_status_id': None, 'quoted_status_id': None, 'binding_values': [{'key': 'unified_card', 'value': {'string_value': '{\"type\":\"image_website\",\"component_objects\":{\"details_1\":{\"type\":\"details\",\"data\":{\"title\":{\"content\":\"Shop Now\",\"is_rtl\":false},\"subtitle\":{\"content\":\"nike.com\",\"is_rtl\":false},\"destination\":\"browser_1\"}},\"media_1\":{\"type\":\"media\",\"data\":{\"id\":\"3_1805598554804666368\",\"destination\":\"browser_1\"}}},\"destination_objects\":{\"browser_1\":{\"type\":\"browser\",\"data\":{\"url_data\":{\"url\":\"https://www.nike.com/t/sabrina-2-court-vision-basketball-shoes-NM2JwV/FQ2174-500?cp=16923160692_osoc_\",\"vanity\":\"nike.com\"}}}},\"components\":[\"media_1\",\"details_1\"],\"media_entities\":{\"3_1805598554804666368\":{\"id\":1805598554804666368,\"id_str\":\"1805598554804666368\",\"indices\":[0,0],\"media_url\":\"\",\"media_url_https\":\"https://pbs.twimg.com/media/GQ7GUbIXQAAa7ff.jpg\",\"url\":\"\",\"display_url\":\"\",\"expanded_url\":\"\",\"type\":\"photo\",\"original_info\":{\"width\":1080,\"height\":1080,\"focus_rects\":[{\"x\":0,\"y\":0,\"h\":605,\"w\":1080},{\"x\":0,\"y\":0,\"h\":1080,\"w\":1080},{\"x\":133,\"y\":0,\"h\":1080,\"w\":947},{\"x\":405,\"y\":0,\"h\":1080,\"w\":540},{\"x\":0,\"y\":0,\"h\":1080,\"w\":1080}]},\"sizes\":{\"medium\":{\"w\":1080,\"h\":1080,\"resize\":\"fit\"},\"thumb\":{\"w\":150,\"h\":150,\"resize\":\"crop\"},\"small\":{\"w\":680,\"h\":680,\"resize\":\"fit\"},\"large\":{\"w\":1080,\"h\":1080,\"resize\":\"fit\"}},\"source_user_id\":5885732,\"source_user_id_str\":\"5885732\",\"media_key\":\"3_1805598554804666368\",\"ext\":{\"mediaColor\":{\"r\":{\"ok\":{\"palette\":[{\"rgb\":{\"red\":8,\"green\":17,\"blue\":16},\"percentage\":90.88},{\"rgb\":{\"red\":169,\"green\":145,\"blue\":172},\"percentage\":2.87},{\"rgb\":{\"red\":90,\"green\":67,\"blue\":100},\"percentage\":2.28},{\"rgb\":{\"red\":78,\"green\":65,\"blue\":49},\"percentage\":0.8},{\"rgb\":{\"red\":230,\"green\":211,\"blue\":146},\"percentage\":0.44}]}},\"ttl\":-1}}}}}'}}, {'key': 'card_url', 'value': {'scribe_key': 'card_url', 'string_value': 'https://twitter.com'}}], 'expanded_url': None, 'retweet_tweet_id': None, 'extended_entities': None, 'conversation_id': '1805632948051304871', 'retweet_status': None, 'quoted_status': None, 'bookmark_count': 16, 'source': None, 'community_note': None}, 'quoted_status': None, 'bookmark_count': 0, 'source': None, 'community_note': None}, {'tweet_id': '1805602845078532558', 'creation_date': 'Tue Jun 25 14:03:59 +0000 2024', 'text': 'RT @nikebasketball: Orchestrate the game with vision like @sabrina_i20  😤.\\n\\nCrafted for hoopers of all ages who put in the work.\\n\\nShop now…', 'media_url': None, 'video_url': None, 'user': {'creation_date': 'Fri Nov 18 22:31:18 +0000 2011', 'user_id': '415859364', 'username': 'Nike', 'name': 'Nike', 'follower_count': 10209610, 'following_count': 120, 'favourites_count': 7114, 'is_private': False, 'is_verified': False, 'is_blue_verified': True, 'location': 'Beaverton, Oregon', 'profile_pic_url': 'https://pbs.twimg.com/profile_images/1808501290001203200/Kc7kRCkj_normal.jpg', 'profile_banner_url': 'https://pbs.twimg.com/profile_banners/415859364/1720015298', 'description': 'Nike Air. Engineered to the exact specifications of championship athletes. #WinOnAir', 'external_url': 'https://t.co/keUPAwboWl', 'number_of_tweets': 38966, 'bot': False, 'timestamp': 1321655478, 'has_nft_avatar': False, 'category': None, 'default_profile': False, 'default_profile_image': False, 'listed_count': None, 'verified_type': 'Business'}, 'language': 'en', 'favorite_count': 0, 'retweet_count': 115, 'reply_count': 0, 'quote_count': 0, 'retweet': True, 'views': 5, 'timestamp': 1719324239, 'video_view_count': None, 'in_reply_to_status_id': None, 'quoted_status_id': None, 'binding_values': None, 'expanded_url': None, 'retweet_tweet_id': '1805602581177418010', 'extended_entities': None, 'conversation_id': '1805602845078532558', 'retweet_status': {'tweet_id': '1805602581177418010', 'creation_date': 'Tue Jun 25 14:02:56 +0000 2024', 'text': 'Orchestrate the game with vision like @sabrina_i20  😤.\\n\\nCrafted for hoopers of all ages who put in the work.\\n\\nShop now in North America. Available globally June 28. https://t.co/o5ffa5tMLJ', 'media_url': None, 'video_url': [{'url': 'https://video.twimg.com/amplify_video/1805602458762362881/vid/avc1/320x320/e4Whzh6pJwoBYiVp.mp4?tag=16', 'bitrate': 432000, 'content_type': 'video/mp4'}, {'url': 'https://video.twimg.com/amplify_video/1805602458762362881/vid/avc1/540x540/RKmUAFf58Cue9FLx.mp4?tag=16', 'bitrate': 832000, 'content_type': 'video/mp4'}, {'url': 'https://video.twimg.com/amplify_video/1805602458762362881/vid/avc1/720x720/7rulRBeAwNpqQ6Z0.mp4?tag=16', 'bitrate': 1280000, 'content_type': 'video/mp4'}, {'url': 'https://video.twimg.com/amplify_video/1805602458762362881/vid/avc1/1080x1080/GXDmUFdRL0C8QIsO.mp4?tag=16', 'bitrate': 8768000, 'content_type': 'video/mp4'}], 'user': {'creation_date': 'Wed May 09 03:45:59 +0000 2007', 'user_id': '5885732', 'username': 'nikebasketball', 'name': 'Nike Basketball', 'follower_count': 2523153, 'following_count': 272, 'favourites_count': 13484, 'is_private': False, 'is_verified': False, 'is_blue_verified': True, 'location': 'Beaverton, Oregon', 'profile_pic_url': 'https://pbs.twimg.com/profile_images/1808502256939188224/Zgzz0cMn_normal.jpg', 'profile_banner_url': 'https://pbs.twimg.com/profile_banners/5885732/1720015531', 'description': 'Nike Air. Engineered to the exact specifications of championship athletes. #WinOnAir', 'external_url': 'https://t.co/OdBumNkLMQ', 'number_of_tweets': 40359, 'bot': False, 'timestamp': 1178682359, 'has_nft_avatar': False, 'category': None, 'default_profile': False, 'default_profile_image': False, 'listed_count': None, 'verified_type': 'Business'}, 'language': 'en', 'favorite_count': 637, 'retweet_count': 115, 'reply_count': 36, 'quote_count': 13, 'retweet': False, 'views': 219149, 'timestamp': 1719324176, 'video_view_count': None, 'in_reply_to_status_id': None, 'quoted_status_id': None, 'binding_values': None, 'expanded_url': None, 'retweet_tweet_id': None, 'extended_entities': {'media': [{'additional_media_info': {'monetizable': False}, 'display_url': 'pic.twitter.com/o5ffa5tMLJ', 'expanded_url': 'https://twitter.com/nikebasketball/status/1805602581177418010/video/1', 'ext_media_availability': {'status': 'Unavailable', 'reason': 'Deleted'}, 'id_str': '1805602458762362881', 'indices': [165, 188], 'media_key': '13_1805602458762362881', 'media_url_https': 'https://pbs.twimg.com/amplify_video_thumb/1805602458762362881/img/T2lxdT_yQTWK7N4w.jpg', 'original_info': {'width': 1080, 'height': 1080, 'focus_rects': []}, 'sizes': {'large': {'w': 1080, 'h': 1080}}, 'type': 'video', 'url': 'https://t.co/o5ffa5tMLJ', 'video_info': {'aspect_ratio': [1, 1], 'duration_millis': 22564, 'variants': [{'url': 'https://video.twimg.com/amplify_video/1805602458762362881/pl/oiNoepJd8csd_oZf.m3u8?tag=16', 'content_type': 'application/x-mpegURL'}, {'url': 'https://video.twimg.com/amplify_video/1805602458762362881/vid/avc1/320x320/e4Whzh6pJwoBYiVp.mp4?tag=16', 'content_type': 'video/mp4', 'bitrate': 432000}, {'url': 'https://video.twimg.com/amplify_video/1805602458762362881/vid/avc1/540x540/RKmUAFf58Cue9FLx.mp4?tag=16', 'content_type': 'video/mp4', 'bitrate': 832000}, {'url': 'https://video.twimg.com/amplify_video/1805602458762362881/vid/avc1/720x720/7rulRBeAwNpqQ6Z0.mp4?tag=16', 'content_type': 'video/mp4', 'bitrate': 1280000}, {'url': 'https://video.twimg.com/amplify_video/1805602458762362881/vid/avc1/1080x1080/GXDmUFdRL0C8QIsO.mp4?tag=16', 'content_type': 'video/mp4', 'bitrate': 8768000}]}}]}, 'conversation_id': '1805602581177418010', 'retweet_status': None, 'quoted_status': None, 'bookmark_count': 26, 'source': None, 'community_note': None}, 'quoted_status': None, 'bookmark_count': 0, 'source': None, 'community_note': None}, {'tweet_id': '1804575142032330908', 'creation_date': 'Sat Jun 22 18:00:15 +0000 2024', 'text': 'When two icons collide.\\n#VogueWorld Paris, presented by @nike\\n\\nWatch the livestream on https://t.co/FC83TDuSJD 6.23, 3pm EST https://t.co/RQ49DKC8Hk', 'media_url': None, 'video_url': [{'url': 'https://video.twimg.com/amplify_video/1804575049610928128/vid/avc1/320x320/WDl26cZuztx9FLmN.mp4?tag=16', 'bitrate': 432000, 'content_type': 'video/mp4'}, {'url': 'https://video.twimg.com/amplify_video/1804575049610928128/vid/avc1/540x540/ErjEpMI22x3Ony2n.mp4?tag=16', 'bitrate': 832000, 'content_type': 'video/mp4'}, {'url': 'https://video.twimg.com/amplify_video/1804575049610928128/vid/avc1/720x720/45kAomLucwasnro-.mp4?tag=16', 'bitrate': 1280000, 'content_type': 'video/mp4'}, {'url': 'https://video.twimg.com/amplify_video/1804575049610928128/vid/avc1/1080x1080/PMg3b9t8AD0yOjik.mp4?tag=16', 'bitrate': 8768000, 'content_type': 'video/mp4'}], 'user': {'creation_date': 'Fri Nov 18 22:31:18 +0000 2011', 'user_id': '415859364', 'username': 'Nike', 'name': 'Nike', 'follower_count': 10209610, 'following_count': 120, 'favourites_count': 7114, 'is_private': False, 'is_verified': False, 'is_blue_verified': True, 'location': 'Beaverton, Oregon', 'profile_pic_url': 'https://pbs.twimg.com/profile_images/1808501290001203200/Kc7kRCkj_normal.jpg', 'profile_banner_url': 'https://pbs.twimg.com/profile_banners/415859364/1720015298', 'description': 'Nike Air. Engineered to the exact specifications of championship athletes. #WinOnAir', 'external_url': 'https://t.co/keUPAwboWl', 'number_of_tweets': 38966, 'bot': False, 'timestamp': 1321655478, 'has_nft_avatar': False, 'category': None, 'default_profile': False, 'default_profile_image': False, 'listed_count': None, 'verified_type': 'Business'}, 'language': 'en', 'favorite_count': 325, 'retweet_count': 63, 'reply_count': 50, 'quote_count': 3, 'retweet': False, 'views': 121066, 'timestamp': 1719079215, 'video_view_count': None, 'in_reply_to_status_id': None, 'quoted_status_id': None, 'binding_values': None, 'expanded_url': 'http://www.vogue.world', 'retweet_tweet_id': None, 'extended_entities': {'media': [{'additional_media_info': {'monetizable': False}, 'display_url': 'pic.twitter.com/RQ49DKC8Hk', 'expanded_url': 'https://twitter.com/Nike/status/1804575142032330908/video/1', 'ext_media_availability': {'status': 'Available'}, 'id_str': '1804575049610928128', 'indices': [125, 148], 'media_key': '13_1804575049610928128', 'media_url_https': 'https://pbs.twimg.com/amplify_video_thumb/1804575049610928128/img/0sOOlgRStB3-MeHd.jpg', 'original_info': {'width': 1080, 'height': 1080, 'focus_rects': []}, 'sizes': {'large': {'w': 1080, 'h': 1080}}, 'type': 'video', 'url': 'https://t.co/RQ49DKC8Hk', 'video_info': {'aspect_ratio': [1, 1], 'duration_millis': 11636, 'variants': [{'url': 'https://video.twimg.com/amplify_video/1804575049610928128/pl/z7QvyfUGFnEAB65k.m3u8?tag=16', 'content_type': 'application/x-mpegURL'}, {'url': 'https://video.twimg.com/amplify_video/1804575049610928128/vid/avc1/320x320/WDl26cZuztx9FLmN.mp4?tag=16', 'content_type': 'video/mp4', 'bitrate': 432000}, {'url': 'https://video.twimg.com/amplify_video/1804575049610928128/vid/avc1/540x540/ErjEpMI22x3Ony2n.mp4?tag=16', 'content_type': 'video/mp4', 'bitrate': 832000}, {'url': 'https://video.twimg.com/amplify_video/1804575049610928128/vid/avc1/720x720/45kAomLucwasnro-.mp4?tag=16', 'content_type': 'video/mp4', 'bitrate': 1280000}, {'url': 'https://video.twimg.com/amplify_video/1804575049610928128/vid/avc1/1080x1080/PMg3b9t8AD0yOjik.mp4?tag=16', 'content_type': 'video/mp4', 'bitrate': 8768000}]}, 'allow_download_status': {'allow_download': True}}]}, 'conversation_id': '1804575142032330908', 'retweet_status': None, 'quoted_status': None, 'bookmark_count': 15, 'source': None, 'community_note': None}, {'tweet_id': '1804573402633499100', 'creation_date': 'Sat Jun 22 17:53:21 +0000 2024', 'text': \"RT @nikebasketball: A’yyyyyyyyy\\n\\nCan't match that @_ajawilson22 shine \\U0001faa9 Hyped to reveal the A’ logo.\", 'media_url': None, 'video_url': None, 'user': {'creation_date': 'Fri Nov 18 22:31:18 +0000 2011', 'user_id': '415859364', 'username': 'Nike', 'name': 'Nike', 'follower_count': 10209610, 'following_count': 120, 'favourites_count': 7114, 'is_private': False, 'is_verified': False, 'is_blue_verified': True, 'location': 'Beaverton, Oregon', 'profile_pic_url': 'https://pbs.twimg.com/profile_images/1808501290001203200/Kc7kRCkj_normal.jpg', 'profile_banner_url': 'https://pbs.twimg.com/profile_banners/415859364/1720015298', 'description': 'Nike Air. Engineered to the exact specifications of championship athletes. #WinOnAir', 'external_url': 'https://t.co/keUPAwboWl', 'number_of_tweets': 38966, 'bot': False, 'timestamp': 1321655478, 'has_nft_avatar': False, 'category': None, 'default_profile': False, 'default_profile_image': False, 'listed_count': None, 'verified_type': 'Business'}, 'language': 'en', 'favorite_count': 0, 'retweet_count': 1683, 'reply_count': 0, 'quote_count': 0, 'retweet': True, 'views': 2, 'timestamp': 1719078801, 'video_view_count': None, 'in_reply_to_status_id': None, 'quoted_status_id': None, 'binding_values': [{'key': 'unified_card', 'value': {'string_value': '{\"type\":\"video_website\",\"component_objects\":{\"details_1\":{\"type\":\"details\",\"data\":{\"title\":{\"content\":\"Learn More\",\"is_rtl\":false},\"subtitle\":{\"content\":\"nike.com\",\"is_rtl\":false},\"destination\":\"override_browser_with_docked_media_1\"}},\"media_1\":{\"type\":\"media\",\"data\":{\"id\":\"13_1804566367779053568\",\"destination\":\"browser_with_docked_media_1\"}}},\"destination_objects\":{\"browser_with_docked_media_1\":{\"type\":\"browser_with_docked_media\",\"data\":{\"url_data\":{\"url\":\"http://OfcourseIhaveashoe.com\",\"vanity\":\"nike.com\"},\"media_id\":\"13_1804566367779053568\"}},\"override_browser_with_docked_media_1\":{\"type\":\"browser\",\"data\":{\"url_data\":{\"url\":\"http://OfcourseIhaveashoe.com\",\"vanity\":\"nike.com\"}}}},\"components\":[\"media_1\",\"details_1\"],\"media_entities\":{\"13_1804566367779053568\":{\"id\":1804566367779053568,\"id_str\":\"1804566367779053568\",\"indices\":[0,0],\"media_url\":\"\",\"media_url_https\":\"https://pbs.twimg.com/amplify_video_thumb/1804566367779053568/img/9mUqGX-OruhPZWnO.jpg\",\"url\":\"\",\"display_url\":\"\",\"expanded_url\":\"\",\"type\":\"video\",\"original_info\":{\"width\":1080,\"height\":1080},\"sizes\":{\"medium\":{\"w\":1080,\"h\":1080,\"resize\":\"fit\"},\"large\":{\"w\":1080,\"h\":1080,\"resize\":\"fit\"},\"thumb\":{\"w\":150,\"h\":150,\"resize\":\"crop\"},\"small\":{\"w\":680,\"h\":680,\"resize\":\"fit\"}},\"source_user_id\":5885732,\"source_user_id_str\":\"5885732\",\"video_info\":{\"aspect_ratio\":[1,1],\"duration_millis\":19519,\"variants\":[{\"bitrate\":432000,\"content_type\":\"video/mp4\",\"url\":\"https://video.twimg.com/amplify_video/1804566367779053568/vid/avc1/320x320/CkwHoIZMYG6-U_1A.mp4?tag=14\"},{\"bitrate\":1280000,\"content_type\":\"video/mp4\",\"url\":\"https://video.twimg.com/amplify_video/1804566367779053568/vid/avc1/720x720/8qU3l29m7XdbDBAZ.mp4?tag=14\"},{\"bitrate\":832000,\"content_type\":\"video/mp4\",\"url\":\"https://video.twimg.com/amplify_video/1804566367779053568/vid/avc1/540x540/SPAhDdzKbq-d2Syd.mp4?tag=14\"},{\"content_type\":\"application/x-mpegURL\",\"url\":\"https://video.twimg.com/amplify_video/1804566367779053568/pl/d3zRmceZ-yZXvbh9.m3u8?tag=14\"}]},\"media_key\":\"13_1804566367779053568\",\"ext\":{\"mediaColor\":{\"r\":{\"ok\":{\"palette\":[{\"rgb\":{\"red\":17,\"green\":39,\"blue\":47},\"percentage\":78.13},{\"rgb\":{\"red\":93,\"green\":113,\"blue\":123},\"percentage\":16.96},{\"rgb\":{\"red\":40,\"green\":73,\"blue\":91},\"percentage\":4.35},{\"rgb\":{\"red\":85,\"green\":130,\"blue\":153},\"percentage\":0.28},{\"rgb\":{\"red\":183,\"green\":210,\"blue\":207},\"percentage\":0.24}]}},\"ttl\":-1}}}}}'}}, {'key': 'card_url', 'value': {'scribe_key': 'card_url', 'string_value': 'https://twitter.com'}}], 'expanded_url': None, 'retweet_tweet_id': '1804572466540315045', 'extended_entities': None, 'conversation_id': '1804573402633499100', 'retweet_status': {'tweet_id': '1804572466540315045', 'creation_date': 'Sat Jun 22 17:49:38 +0000 2024', 'text': \"A’yyyyyyyyy\\n\\nCan't match that @_ajawilson22 shine \\U0001faa9 Hyped to reveal the A’ logo.\", 'media_url': None, 'video_url': None, 'user': {'creation_date': 'Wed May 09 03:45:59 +0000 2007', 'user_id': '5885732', 'username': 'nikebasketball', 'name': 'Nike Basketball', 'follower_count': 2523153, 'following_count': 272, 'favourites_count': 13484, 'is_private': False, 'is_verified': False, 'is_blue_verified': True, 'location': 'Beaverton, Oregon', 'profile_pic_url': 'https://pbs.twimg.com/profile_images/1808502256939188224/Zgzz0cMn_normal.jpg', 'profile_banner_url': 'https://pbs.twimg.com/profile_banners/5885732/1720015531', 'description': 'Nike Air. Engineered to the exact specifications of championship athletes. #WinOnAir', 'external_url': 'https://t.co/OdBumNkLMQ', 'number_of_tweets': 40359, 'bot': False, 'timestamp': 1178682359, 'has_nft_avatar': False, 'category': None, 'default_profile': False, 'default_profile_image': False, 'listed_count': None, 'verified_type': 'Business'}, 'language': 'en', 'favorite_count': 5944, 'retweet_count': 1683, 'reply_count': 175, 'quote_count': 295, 'retweet': False, 'views': 820691, 'timestamp': 1719078578, 'video_view_count': None, 'in_reply_to_status_id': None, 'quoted_status_id': None, 'binding_values': [{'key': 'unified_card', 'value': {'string_value': '{\"type\":\"video_website\",\"component_objects\":{\"details_1\":{\"type\":\"details\",\"data\":{\"title\":{\"content\":\"Learn More\",\"is_rtl\":false},\"subtitle\":{\"content\":\"nike.com\",\"is_rtl\":false},\"destination\":\"override_browser_with_docked_media_1\"}},\"media_1\":{\"type\":\"media\",\"data\":{\"id\":\"13_1804566367779053568\",\"destination\":\"browser_with_docked_media_1\"}}},\"destination_objects\":{\"browser_with_docked_media_1\":{\"type\":\"browser_with_docked_media\",\"data\":{\"url_data\":{\"url\":\"http://OfcourseIhaveashoe.com\",\"vanity\":\"nike.com\"},\"media_id\":\"13_1804566367779053568\"}},\"override_browser_with_docked_media_1\":{\"type\":\"browser\",\"data\":{\"url_data\":{\"url\":\"http://OfcourseIhaveashoe.com\",\"vanity\":\"nike.com\"}}}},\"components\":[\"media_1\",\"details_1\"],\"media_entities\":{\"13_1804566367779053568\":{\"id\":1804566367779053568,\"id_str\":\"1804566367779053568\",\"indices\":[0,0],\"media_url\":\"\",\"media_url_https\":\"https://pbs.twimg.com/amplify_video_thumb/1804566367779053568/img/9mUqGX-OruhPZWnO.jpg\",\"url\":\"\",\"display_url\":\"\",\"expanded_url\":\"\",\"type\":\"video\",\"original_info\":{\"width\":1080,\"height\":1080},\"sizes\":{\"medium\":{\"w\":1080,\"h\":1080,\"resize\":\"fit\"},\"large\":{\"w\":1080,\"h\":1080,\"resize\":\"fit\"},\"thumb\":{\"w\":150,\"h\":150,\"resize\":\"crop\"},\"small\":{\"w\":680,\"h\":680,\"resize\":\"fit\"}},\"source_user_id\":5885732,\"source_user_id_str\":\"5885732\",\"video_info\":{\"aspect_ratio\":[1,1],\"duration_millis\":19519,\"variants\":[{\"bitrate\":432000,\"content_type\":\"video/mp4\",\"url\":\"https://video.twimg.com/amplify_video/1804566367779053568/vid/avc1/320x320/CkwHoIZMYG6-U_1A.mp4?tag=14\"},{\"bitrate\":1280000,\"content_type\":\"video/mp4\",\"url\":\"https://video.twimg.com/amplify_video/1804566367779053568/vid/avc1/720x720/8qU3l29m7XdbDBAZ.mp4?tag=14\"},{\"bitrate\":832000,\"content_type\":\"video/mp4\",\"url\":\"https://video.twimg.com/amplify_video/1804566367779053568/vid/avc1/540x540/SPAhDdzKbq-d2Syd.mp4?tag=14\"},{\"content_type\":\"application/x-mpegURL\",\"url\":\"https://video.twimg.com/amplify_video/1804566367779053568/pl/d3zRmceZ-yZXvbh9.m3u8?tag=14\"}]},\"media_key\":\"13_1804566367779053568\",\"ext\":{\"mediaColor\":{\"r\":{\"ok\":{\"palette\":[{\"rgb\":{\"red\":17,\"green\":39,\"blue\":47},\"percentage\":78.13},{\"rgb\":{\"red\":93,\"green\":113,\"blue\":123},\"percentage\":16.96},{\"rgb\":{\"red\":40,\"green\":73,\"blue\":91},\"percentage\":4.35},{\"rgb\":{\"red\":85,\"green\":130,\"blue\":153},\"percentage\":0.28},{\"rgb\":{\"red\":183,\"green\":210,\"blue\":207},\"percentage\":0.24}]}},\"ttl\":-1}}}}}'}}, {'key': 'card_url', 'value': {'scribe_key': 'card_url', 'string_value': 'https://twitter.com'}}], 'expanded_url': None, 'retweet_tweet_id': None, 'extended_entities': None, 'conversation_id': '1804572466540315045', 'retweet_status': None, 'quoted_status': None, 'bookmark_count': 239, 'source': None, 'community_note': None}, 'quoted_status': None, 'bookmark_count': 0, 'source': None, 'community_note': None}, {'tweet_id': '1802076264951636091', 'creation_date': 'Sat Jun 15 20:30:37 +0000 2024', 'text': \"RT @nikebasketball: If you're late to the party, don't worry about finding a seat. The WNBA’s got everyone on their feet all night, anyway.…\", 'media_url': None, 'video_url': None, 'user': {'creation_date': 'Fri Nov 18 22:31:18 +0000 2011', 'user_id': '415859364', 'username': 'Nike', 'name': 'Nike', 'follower_count': 10209610, 'following_count': 120, 'favourites_count': 7114, 'is_private': False, 'is_verified': False, 'is_blue_verified': True, 'location': 'Beaverton, Oregon', 'profile_pic_url': 'https://pbs.twimg.com/profile_images/1808501290001203200/Kc7kRCkj_normal.jpg', 'profile_banner_url': 'https://pbs.twimg.com/profile_banners/415859364/1720015298', 'description': 'Nike Air. Engineered to the exact specifications of championship athletes. #WinOnAir', 'external_url': 'https://t.co/keUPAwboWl', 'number_of_tweets': 38966, 'bot': False, 'timestamp': 1321655478, 'has_nft_avatar': False, 'category': None, 'default_profile': False, 'default_profile_image': False, 'listed_count': None, 'verified_type': 'Business'}, 'language': 'en', 'favorite_count': 0, 'retweet_count': 567, 'reply_count': 0, 'quote_count': 0, 'retweet': True, 'views': 3, 'timestamp': 1718483437, 'video_view_count': None, 'in_reply_to_status_id': None, 'quoted_status_id': None, 'binding_values': None, 'expanded_url': None, 'retweet_tweet_id': '1802075969030897919', 'extended_entities': None, 'conversation_id': '1802076264951636091', 'retweet_status': {'tweet_id': '1802075969030897919', 'creation_date': 'Sat Jun 15 20:29:26 +0000 2024', 'text': \"If you're late to the party, don't worry about finding a seat. The WNBA’s got everyone on their feet all night, anyway. Especially Mr. Earl… https://t.co/dwmv4PeuZG\", 'media_url': None, 'video_url': [{'url': 'https://video.twimg.com/amplify_video/1802075892216115200/vid/avc1/320x320/FfcFOeTSJHwupcD-.mp4?tag=16', 'bitrate': 432000, 'content_type': 'video/mp4'}, {'url': 'https://video.twimg.com/amplify_video/1802075892216115200/vid/avc1/540x540/JWFLx3brz_VbZrDQ.mp4?tag=16', 'bitrate': 832000, 'content_type': 'video/mp4'}, {'url': 'https://video.twimg.com/amplify_video/1802075892216115200/vid/avc1/720x720/1GekGHv6f8xnXBvo.mp4?tag=16', 'bitrate': 1280000, 'content_type': 'video/mp4'}, {'url': 'https://video.twimg.com/amplify_video/1802075892216115200/vid/avc1/1080x1080/HD2RBiDJsKyIZAgw.mp4?tag=16', 'bitrate': 8768000, 'content_type': 'video/mp4'}], 'user': {'creation_date': 'Wed May 09 03:45:59 +0000 2007', 'user_id': '5885732', 'username': 'nikebasketball', 'name': 'Nike Basketball', 'follower_count': 2523153, 'following_count': 272, 'favourites_count': 13484, 'is_private': False, 'is_verified': False, 'is_blue_verified': True, 'location': 'Beaverton, Oregon', 'profile_pic_url': 'https://pbs.twimg.com/profile_images/1808502256939188224/Zgzz0cMn_normal.jpg', 'profile_banner_url': 'https://pbs.twimg.com/profile_banners/5885732/1720015531', 'description': 'Nike Air. Engineered to the exact specifications of championship athletes. #WinOnAir', 'external_url': 'https://t.co/OdBumNkLMQ', 'number_of_tweets': 40359, 'bot': False, 'timestamp': 1178682359, 'has_nft_avatar': False, 'category': None, 'default_profile': False, 'default_profile_image': False, 'listed_count': None, 'verified_type': 'Business'}, 'language': 'en', 'favorite_count': 2124, 'retweet_count': 567, 'reply_count': 79, 'quote_count': 130, 'retweet': False, 'views': 391082, 'timestamp': 1718483366, 'video_view_count': None, 'in_reply_to_status_id': None, 'quoted_status_id': None, 'binding_values': None, 'expanded_url': None, 'retweet_tweet_id': None, 'extended_entities': {'media': [{'additional_media_info': {'monetizable': False}, 'display_url': 'pic.twitter.com/dwmv4PeuZG', 'expanded_url': 'https://twitter.com/nikebasketball/status/1802075969030897919/video/1', 'ext_media_availability': {'status': 'Available'}, 'id_str': '1802075892216115200', 'indices': [141, 164], 'media_key': '13_1802075892216115200', 'media_url_https': 'https://pbs.twimg.com/amplify_video_thumb/1802075892216115200/img/VrI4UeO_lxwUYrqp.jpg', 'original_info': {'width': 1080, 'height': 1080, 'focus_rects': []}, 'sizes': {'large': {'w': 1080, 'h': 1080}}, 'type': 'video', 'url': 'https://t.co/dwmv4PeuZG', 'video_info': {'aspect_ratio': [1, 1], 'duration_millis': 60050, 'variants': [{'url': 'https://video.twimg.com/amplify_video/1802075892216115200/pl/7dUJ8wwvm5nbPVNq.m3u8?tag=16', 'content_type': 'application/x-mpegURL'}, {'url': 'https://video.twimg.com/amplify_video/1802075892216115200/vid/avc1/320x320/FfcFOeTSJHwupcD-.mp4?tag=16', 'content_type': 'video/mp4', 'bitrate': 432000}, {'url': 'https://video.twimg.com/amplify_video/1802075892216115200/vid/avc1/540x540/JWFLx3brz_VbZrDQ.mp4?tag=16', 'content_type': 'video/mp4', 'bitrate': 832000}, {'url': 'https://video.twimg.com/amplify_video/1802075892216115200/vid/avc1/720x720/1GekGHv6f8xnXBvo.mp4?tag=16', 'content_type': 'video/mp4', 'bitrate': 1280000}, {'url': 'https://video.twimg.com/amplify_video/1802075892216115200/vid/avc1/1080x1080/HD2RBiDJsKyIZAgw.mp4?tag=16', 'content_type': 'video/mp4', 'bitrate': 8768000}]}}]}, 'conversation_id': '1802075969030897919', 'retweet_status': None, 'quoted_status': None, 'bookmark_count': 187, 'source': None, 'community_note': None}, 'quoted_status': None, 'bookmark_count': 0, 'source': None, 'community_note': None}, {'tweet_id': '1801659500665180268', 'creation_date': 'Fri Jun 14 16:54:32 +0000 2024', 'text': 'Let the madness begin. 👀 #NikeFootball', 'media_url': None, 'video_url': None, 'user': {'creation_date': 'Fri Nov 18 22:31:18 +0000 2011', 'user_id': '415859364', 'username': 'Nike', 'name': 'Nike', 'follower_count': 10209610, 'following_count': 120, 'favourites_count': 7114, 'is_private': False, 'is_verified': False, 'is_blue_verified': True, 'location': 'Beaverton, Oregon', 'profile_pic_url': 'https://pbs.twimg.com/profile_images/1808501290001203200/Kc7kRCkj_normal.jpg', 'profile_banner_url': 'https://pbs.twimg.com/profile_banners/415859364/1720015298', 'description': 'Nike Air. Engineered to the exact specifications of championship athletes. #WinOnAir', 'external_url': 'https://t.co/keUPAwboWl', 'number_of_tweets': 38966, 'bot': False, 'timestamp': 1321655478, 'has_nft_avatar': False, 'category': None, 'default_profile': False, 'default_profile_image': False, 'listed_count': None, 'verified_type': 'Business'}, 'language': 'en', 'favorite_count': 514, 'retweet_count': 96, 'reply_count': 53, 'quote_count': 4, 'retweet': False, 'views': 199795, 'timestamp': 1718384072, 'video_view_count': None, 'in_reply_to_status_id': None, 'quoted_status_id': '1801295854999113840', 'binding_values': None, 'expanded_url': None, 'retweet_tweet_id': None, 'extended_entities': None, 'conversation_id': '1801659500665180268', 'retweet_status': None, 'quoted_status': {'tweet_id': '1801295854999113840', 'creation_date': 'Thu Jun 13 16:49:32 +0000 2024', 'text': 'There’s something special that separates those at the top from everyone else. @Vinijr @KMbappe @erlinghaaland @10Ronaldinho \\n \\n𝑨𝒘𝒂𝒌𝒆𝒏 𝒀𝒐𝒖𝒓 𝑴𝒂𝒅𝒏𝒆𝒔𝒔.\\n \\n#NikeFootball https://t.co/mms7adk8w6', 'media_url': None, 'video_url': [{'url': 'https://video.twimg.com/amplify_video/1801294896281882627/vid/avc1/480x270/TeOrSg704zXnrbFC.mp4?tag=16', 'bitrate': 288000, 'content_type': 'video/mp4'}, {'url': 'https://video.twimg.com/amplify_video/1801294896281882627/vid/avc1/640x360/VEy23vGy5y1-WELn.mp4?tag=16', 'bitrate': 832000, 'content_type': 'video/mp4'}, {'url': 'https://video.twimg.com/amplify_video/1801294896281882627/vid/avc1/1280x720/7TLES3gFw9o2x6-k.mp4?tag=16', 'bitrate': 2176000, 'content_type': 'video/mp4'}, {'url': 'https://video.twimg.com/amplify_video/1801294896281882627/vid/avc1/1920x1080/9aZf5SuCtVdcDePA.mp4?tag=16', 'bitrate': 10368000, 'content_type': 'video/mp4'}], 'user': {'creation_date': 'Tue May 19 16:16:20 +0000 2009', 'user_id': '41147159', 'username': 'nikefootball', 'name': 'Nike Football', 'follower_count': 3866488, 'following_count': 238, 'favourites_count': 1685, 'is_private': False, 'is_verified': False, 'is_blue_verified': True, 'location': 'Worldwide', 'profile_pic_url': 'https://pbs.twimg.com/profile_images/1808502376237764608/Kl8EQUdO_normal.jpg', 'profile_banner_url': 'https://pbs.twimg.com/profile_banners/41147159/1720015520', 'description': '', 'external_url': 'https://t.co/5wBuuGeXDc', 'number_of_tweets': 47817, 'bot': False, 'timestamp': 1242749780, 'has_nft_avatar': False, 'category': None, 'default_profile': False, 'default_profile_image': False, 'listed_count': None, 'verified_type': 'Business'}, 'language': 'en', 'favorite_count': 24122, 'retweet_count': 4850, 'reply_count': 341, 'quote_count': 1309, 'retweet': False, 'views': 3859311, 'timestamp': 1718297372, 'video_view_count': None, 'in_reply_to_status_id': None, 'quoted_status_id': None, 'binding_values': None, 'expanded_url': None, 'retweet_tweet_id': None, 'extended_entities': {'media': [{'additional_media_info': {'monetizable': False}, 'display_url': 'pic.twitter.com/mms7adk8w6', 'expanded_url': 'https://twitter.com/nikefootball/status/1801295854999113840/video/1', 'ext_media_availability': {'status': 'Available'}, 'id_str': '1801294896281882627', 'indices': [164, 187], 'media_key': '13_1801294896281882627', 'media_url_https': 'https://pbs.twimg.com/amplify_video_thumb/1801294896281882627/img/cl4jPHxrKo1DgyTl.jpg', 'original_info': {'width': 1920, 'height': 1080, 'focus_rects': []}, 'sizes': {'large': {'w': 1920, 'h': 1080}}, 'type': 'video', 'url': 'https://t.co/mms7adk8w6', 'video_info': {'aspect_ratio': [16, 9], 'duration_millis': 142000, 'variants': [{'url': 'https://video.twimg.com/amplify_video/1801294896281882627/pl/xSh6U4M_h-fqhkCP.m3u8?tag=16', 'content_type': 'application/x-mpegURL'}, {'url': 'https://video.twimg.com/amplify_video/1801294896281882627/vid/avc1/480x270/TeOrSg704zXnrbFC.mp4?tag=16', 'content_type': 'video/mp4', 'bitrate': 288000}, {'url': 'https://video.twimg.com/amplify_video/1801294896281882627/vid/avc1/640x360/VEy23vGy5y1-WELn.mp4?tag=16', 'content_type': 'video/mp4', 'bitrate': 832000}, {'url': 'https://video.twimg.com/amplify_video/1801294896281882627/vid/avc1/1280x720/7TLES3gFw9o2x6-k.mp4?tag=16', 'content_type': 'video/mp4', 'bitrate': 2176000}, {'url': 'https://video.twimg.com/amplify_video/1801294896281882627/vid/avc1/1920x1080/9aZf5SuCtVdcDePA.mp4?tag=16', 'content_type': 'video/mp4', 'bitrate': 10368000}]}}]}, 'conversation_id': '1801295854999113840', 'retweet_status': None, 'quoted_status': None, 'bookmark_count': 2383, 'source': None, 'community_note': None}, 'bookmark_count': 18, 'source': None, 'community_note': None}, {'tweet_id': '1800544252625297613', 'creation_date': 'Tue Jun 11 15:02:56 +0000 2024', 'text': 'Number 1 was never the destination. Number 1 is only the beginning. https://t.co/1ofS3tuHFu', 'media_url': ['https://pbs.twimg.com/media/GPzRc_WXkAEXtT6.jpg', 'https://pbs.twimg.com/media/GPzRc_YWkAAAJSf.jpg'], 'video_url': None, 'user': {'creation_date': 'Fri Nov 18 22:31:18 +0000 2011', 'user_id': '415859364', 'username': 'Nike', 'name': 'Nike', 'follower_count': 10209610, 'following_count': 120, 'favourites_count': 7114, 'is_private': False, 'is_verified': False, 'is_blue_verified': True, 'location': 'Beaverton, Oregon', 'profile_pic_url': 'https://pbs.twimg.com/profile_images/1808501290001203200/Kc7kRCkj_normal.jpg', 'profile_banner_url': 'https://pbs.twimg.com/profile_banners/415859364/1720015298', 'description': 'Nike Air. Engineered to the exact specifications of championship athletes. #WinOnAir', 'external_url': 'https://t.co/keUPAwboWl', 'number_of_tweets': 38966, 'bot': False, 'timestamp': 1321655478, 'has_nft_avatar': False, 'category': None, 'default_profile': False, 'default_profile_image': False, 'listed_count': None, 'verified_type': 'Business'}, 'language': 'en', 'favorite_count': 5420, 'retweet_count': 675, 'reply_count': 78, 'quote_count': 66, 'retweet': False, 'views': 418450, 'timestamp': 1718118176, 'video_view_count': None, 'in_reply_to_status_id': None, 'quoted_status_id': None, 'binding_values': None, 'expanded_url': None, 'retweet_tweet_id': None, 'extended_entities': {'media': [{'display_url': 'pic.twitter.com/1ofS3tuHFu', 'expanded_url': 'https://twitter.com/Nike/status/1800544252625297613/photo/1', 'ext_media_availability': {'status': 'Available'}, 'features': {'all': {'tags': [{'user_id': '1167868842489651200', 'name': 'Jannik Sinner', 'screen_name': 'janniksin'}, {'user_id': '1167868842489651200', 'name': 'Jannik Sinner', 'screen_name': 'janniksin'}]}, 'large': {'faces': []}}, 'id_str': '1800544247013150721', 'indices': [68, 91], 'media_key': '3_1800544247013150721', 'media_url_https': 'https://pbs.twimg.com/media/GPzRc_WXkAEXtT6.jpg', 'original_info': {'width': 1638, 'height': 2048, 'focus_rects': [{'x': 0, 'y': 309, 'w': 1638, 'h': 917}, {'x': 0, 'y': 0, 'w': 1638, 'h': 1638}, {'x': 0, 'y': 0, 'w': 1638, 'h': 1867}, {'x': 562, 'y': 0, 'w': 1024, 'h': 2048}, {'x': 0, 'y': 0, 'w': 1638, 'h': 2048}]}, 'sizes': {'large': {'w': 1638, 'h': 2048}}, 'type': 'photo', 'url': 'https://t.co/1ofS3tuHFu', 'allow_download_status': {'allow_download': True}}, {'display_url': 'pic.twitter.com/1ofS3tuHFu', 'expanded_url': 'https://twitter.com/Nike/status/1800544252625297613/photo/1', 'ext_media_availability': {'status': 'Available'}, 'features': {'all': {'tags': [{'user_id': '1167868842489651200', 'name': 'Jannik Sinner', 'screen_name': 'janniksin'}, {'user_id': '1167868842489651200', 'name': 'Jannik Sinner', 'screen_name': 'janniksin'}]}, 'large': {'faces': []}}, 'id_str': '1800544247021473792', 'indices': [68, 91], 'media_key': '3_1800544247021473792', 'media_url_https': 'https://pbs.twimg.com/media/GPzRc_YWkAAAJSf.jpg', 'original_info': {'width': 1638, 'height': 2048, 'focus_rects': [{'x': 0, 'y': 514, 'w': 1638, 'h': 917}, {'x': 0, 'y': 153, 'w': 1638, 'h': 1638}, {'x': 0, 'y': 39, 'w': 1638, 'h': 1867}, {'x': 562, 'y': 0, 'w': 1024, 'h': 2048}, {'x': 0, 'y': 0, 'w': 1638, 'h': 2048}]}, 'sizes': {'large': {'w': 1638, 'h': 2048}}, 'type': 'photo', 'url': 'https://t.co/1ofS3tuHFu', 'allow_download_status': {'allow_download': True}}]}, 'conversation_id': '1800544252625297613', 'retweet_status': None, 'quoted_status': None, 'bookmark_count': 148, 'source': None, 'community_note': None}], 'continuation_token': 'DAABCgABGStwdhf__-wKAAIY_NF1RBogzQgAAwAAAAIAAA'}\n"
     ]
    }
   ],
   "source": [
    "import requests\n",
    "\n",
    "# URL de la API para obtener los tweets de un usuario específico de Twitter\n",
    "url = \"https://twitter154.p.rapidapi.com/user/tweets\"\n",
    "\n",
    "# Solicitar al usuario que ingrese el nombre de usuario de Twitter y el ID del usuario\n",
    "username = input(\"Por favor, ingrese el nombre de usuario de Twitter: \")\n",
    "user_id = input(\"Por favor, ingrese el ID del usuario de Twitter: \")\n",
    "\n",
    "# Parámetros de la consulta, utilizando el nombre de usuario y el ID ingresados\n",
    "querystring = {\n",
    "    \"username\": username,\n",
    "    \"limit\": \"40\",\n",
    "    \"user_id\": user_id,\n",
    "    \"include_replies\": \"false\",\n",
    "    \"include_pinned\": \"false\"\n",
    "}\n",
    "\n",
    "# Encabezados de la solicitud, incluyendo la clave de API y el host de RapidAPI\n",
    "headers = {\n",
    "    \"x-rapidapi-key\": \"403a4df21fmsh0da9292eecc8e34p11e95ejsn1ecbde43ce92\",\n",
    "    \"x-rapidapi-host\": \"twitter154.p.rapidapi.com\"\n",
    "}\n",
    "\n",
    "# Realiza la solicitud GET a la API con los encabezados y parámetros especificados\n",
    "response = requests.get(url, headers=headers, params=querystring)\n",
    "\n",
    "# Verifica si la solicitud fue exitosa\n",
    "if response.status_code == 200:\n",
    "    # Imprime la respuesta en formato JSON\n",
    "    print(response.json())\n",
    "else:\n",
    "    # Imprime un mensaje de error si la solicitud no fue exitosa\n",
    "    print(f\"Error: {response.status_code}\")"
   ]
  },
  {
   "cell_type": "markdown",
   "id": "9ab3db84",
   "metadata": {},
   "source": [
    "### Explicación del código:\n",
    "\n",
    "1. **Capturar la entrada del usuario**:\n",
    "   - `username = input(\"Por favor, ingrese el nombre de usuario de Twitter: \")`: Solicita al usuario que ingrese el nombre de usuario de Twitter. El valor ingresado se almacena en la variable `username`.\n",
    "   - `user_id = input(\"Por favor, ingrese el ID del usuario de Twitter: \")`: Solicita al usuario que ingrese el ID del usuario de Twitter. El valor ingresado se almacena en la variable `user_id`.\n",
    "\n",
    "2. **Configurar los parámetros de la consulta**:\n",
    "   - `querystring = {\"username\": username, \"limit\": \"40\", \"user_id\": user_id, \"include_replies\": \"false\", \"include_pinned\": \"false\"}`: Utiliza los valores ingresados por el usuario para configurar los parámetros de la consulta.\n",
    "\n",
    "3. **Verificar si la solicitud fue exitosa**:\n",
    "   - `if response.status_code == 200`: Verifica si el código de estado de la respuesta es 200 (lo que indica una solicitud exitosa).\n",
    "   - `else`: Si el código de estado no es 200, imprime un mensaje de error con el código de estado."
   ]
  },
  {
   "cell_type": "code",
   "execution_count": 34,
   "id": "77de767d-751a-44f8-9775-8ca8145b8526",
   "metadata": {},
   "outputs": [
    {
     "name": "stdout",
     "output_type": "stream",
     "text": [
      "               tweet_id  favorite_count  retweet_count  reply_count  \\\n",
      "0   1812850282369601855             257             28           23   \n",
      "1   1812515232155394409           13515           1579          128   \n",
      "2   1808513775785705858              88             31           27   \n",
      "3   1808513773885661466              93             26          137   \n",
      "4   1808513771490640214             202             34           44   \n",
      "5   1808513765706776943              94             20           19   \n",
      "6   1808513763282464963             195             29           17   \n",
      "7   1808513753291575446             208             34           24   \n",
      "8   1808513755875320026              78             21           17   \n",
      "9   1808513747503489230              92             21           15   \n",
      "10  1808513744567423428             257             33           13   \n",
      "11  1808513738435371062              89             21           16   \n",
      "12  1808513735981695377            1525            179           44   \n",
      "13  1804575142032330908             325             63           50   \n",
      "14  1801659500665180268             514             96           53   \n",
      "15  1800544252625297613            5420            675           78   \n",
      "\n",
      "    quote_count   views  \n",
      "0             1   79140  \n",
      "1            97  549360  \n",
      "2             1   64765  \n",
      "3             1   67274  \n",
      "4             5  101591  \n",
      "5             0   67134  \n",
      "6             1   66267  \n",
      "7             1   67926  \n",
      "8             0   55630  \n",
      "9             0   46666  \n",
      "10            2   56447  \n",
      "11            0   17862  \n",
      "12           18  888682  \n",
      "13            3  121067  \n",
      "14            4  199796  \n",
      "15           66  418450  \n"
     ]
    }
   ],
   "source": [
    "import requests\n",
    "import pandas as pd\n",
    "\n",
    "# URL de la API para obtener los tweets de un usuario específico de Twitter\n",
    "url = \"https://twitter154.p.rapidapi.com/user/tweets\"\n",
    "\n",
    "# Solicitar al usuario que ingrese el nombre de usuario de Twitter y el ID del usuario\n",
    "username = input(\"Por favor, ingrese el nombre de usuario de Twitter: \")\n",
    "user_id = input(\"Por favor, ingrese el ID del usuario de Twitter: \")\n",
    "\n",
    "# Parámetros de la consulta, utilizando el nombre de usuario y el ID ingresados\n",
    "querystring = {\n",
    "    \"username\": username,\n",
    "    \"limit\": \"40\",\n",
    "    \"user_id\": user_id,\n",
    "    \"include_replies\": \"false\",\n",
    "    \"include_pinned\": \"false\"\n",
    "}\n",
    "\n",
    "# Encabezados de la solicitud, incluyendo la clave de API y el host de RapidAPI\n",
    "headers = {\n",
    "    \"x-rapidapi-key\": \"403a4df21fmsh0da9292eecc8e34p11e95ejsn1ecbde43ce92\",\n",
    "    \"x-rapidapi-host\": \"twitter154.p.rapidapi.com\"\n",
    "}\n",
    "\n",
    "# Realiza la solicitud GET a la API con los encabezados y parámetros especificados\n",
    "response = requests.get(url, headers=headers, params=querystring)\n",
    "\n",
    "# Verifica si la solicitud fue exitosa\n",
    "if response.status_code == 200:\n",
    "    data = response.json()\n",
    "\n",
    "    # Lista para almacenar las métricas de los tweets\n",
    "    tweets = []\n",
    "    for tweet in data['results']:\n",
    "        if not tweet.get('retweet', False):\n",
    "            metrics = {\n",
    "                'tweet_id': tweet['tweet_id'],\n",
    "                'favorite_count': tweet.get('favorite_count', 0),\n",
    "                'retweet_count': tweet.get('retweet_count', 0),\n",
    "                'reply_count': tweet.get('reply_count', 0),\n",
    "                'quote_count': tweet.get('quote_count', 0),\n",
    "                'views': tweet.get('views', 0)\n",
    "            }\n",
    "            tweets.append(metrics)\n",
    "\n",
    "    # Crear un DataFrame con las métricas\n",
    "    df = pd.DataFrame(tweets)\n",
    "\n",
    "    # Mostrar el DataFrame\n",
    "    print(df)\n",
    "else:\n",
    "    # Imprime un mensaje de error si la solicitud no fue exitosa\n",
    "    print(f\"Error: {response.status_code}\")\n",
    "\n"
   ]
  },
  {
   "cell_type": "markdown",
   "id": "f1a4cb3b",
   "metadata": {},
   "source": [
    "### Explicación del código:\n",
    "\n",
    "1. **Capturar la entrada del usuario**:\n",
    "   - `username = input(\"Por favor, ingrese el nombre de usuario de Twitter: \")`: Solicita al usuario que ingrese el nombre de usuario de Twitter. El valor ingresado se almacena en la variable `username`.\n",
    "   - `user_id = input(\"Por favor, ingrese el ID del usuario de Twitter: \")`: Solicita al usuario que ingrese el ID del usuario de Twitter. El valor ingresado se almacena en la variable `user_id`.\n",
    "\n",
    "2. **Configurar los parámetros de la consulta**:\n",
    "   - `querystring = {\"username\": username, \"limit\": \"40\", \"user_id\": user_id, \"include_replies\": \"false\", \"include_pinned\": \"false\"}`: Utiliza los valores ingresados por el usuario para configurar los parámetros de la consulta.\n",
    "\n",
    "3. **Realizar la solicitud GET a la API**:\n",
    "   - `response = requests.get(url, headers=headers, params=querystring)`: Realiza la solicitud GET a la API utilizando la URL, los encabezados y los parámetros especificados.\n",
    "\n",
    "4. **Procesar la respuesta de la API**:\n",
    "   - Si la solicitud es exitosa (`response.status_code == 200`), se extraen los datos de los tweets.\n",
    "   - Se filtran los tweets que no son retweets (`if not tweet.get('retweet', False)`) y se recolectan las métricas de interés (`tweet_id`, `favorite_count`, `retweet_count`, `reply_count`, `quote_count`, `views`).\n",
    "\n",
    "5. **Crear un DataFrame con las métricas**:\n",
    "   - `df = pd.DataFrame(tweets)`: Crea un DataFrame de Pandas con las métricas recolectadas.\n",
    "   - `print(df)`: Muestra el DataFrame en la consola."
   ]
  },
  {
   "cell_type": "markdown",
   "id": "fb31bc5c-b054-4efb-a0fa-f35675bea3f5",
   "metadata": {},
   "source": [
    "# Análisis de sentimeintos"
   ]
  },
  {
   "cell_type": "code",
   "execution_count": null,
   "id": "6bc886da-6e22-48e4-b1b5-8979e312a79a",
   "metadata": {},
   "outputs": [],
   "source": []
  },
  {
   "cell_type": "code",
   "execution_count": null,
   "id": "8fcb8417-0663-4eaa-88cf-a57d3a719bbe",
   "metadata": {},
   "outputs": [],
   "source": []
  },
  {
   "cell_type": "code",
   "execution_count": 31,
   "id": "ee8e6829-0c88-4109-a0eb-7d564e890ec3",
   "metadata": {
    "scrolled": true
   },
   "outputs": [
    {
     "data": {
      "text/plain": [
       "{'detail': 'Please make sure the data you have provided is correct'}"
      ]
     },
     "execution_count": 31,
     "metadata": {},
     "output_type": "execute_result"
    }
   ],
   "source": [
    "import requests\n",
    "\n",
    "url = \"https://twitter154.p.rapidapi.com/hashtag/hashtag\"\n",
    "\n",
    "payload = {\n",
    "\t\"hashtag\": \"#Nike\",\n",
    "\t\"limit\": 20,\n",
    "\t\"section\": \"top\",\n",
    "\t\"language\": \"en\"\n",
    "}\n",
    "headers = {\n",
    "\t\"x-rapidapi-key\": \"403a4df21fmsh0da9292eecc8e34p11e95ejsn1ecbde43ce92\",\n",
    "\t\"x-rapidapi-host\": \"twitter154.p.rapidapi.com\",\n",
    "\t\"Content-Type\": \"application/json\"\n",
    "}\n",
    "\n",
    "response = requests.post(url, json=payload, headers=headers)\n",
    "\n",
    "response.json()"
   ]
  },
  {
   "cell_type": "code",
   "execution_count": null,
   "id": "40516dab-cad4-4a1a-a7ac-98229d5a03db",
   "metadata": {},
   "outputs": [],
   "source": [
    "data=response.json()"
   ]
  },
  {
   "cell_type": "code",
   "execution_count": null,
   "id": "5d898f3a-0c23-4c66-8403-9d4d2f1e30d2",
   "metadata": {},
   "outputs": [],
   "source": [
    "import re\n",
    "from datetime import datetime\n"
   ]
  },
  {
   "cell_type": "code",
   "execution_count": null,
   "id": "ab3aa2b0-65f8-4b3f-a5b6-023ae03cc114",
   "metadata": {},
   "outputs": [],
   "source": [
    "def extraer_datos_tweet(tweet):\n",
    "    tweet_id = re.search(r'\\btweet_id\\': \\'(\\d+)', tweet).group(1)\n",
    "    creation_date_str = re.search(r'\\'creation_date\\': \\'(.*?)\\'', tweet).group(1)\n",
    "    creation_date = datetime.strptime(creation_date_str, '%a %b %d %H:%M:%S %z %Y').strftime('%Y-%m-%d %H:%M:%S')\n",
    "    text = re.search(r'\\'text\\': \\'(.*?)\\'', tweet).group(1)\n",
    "    username = re.search(r'\\'username\\': \\'(.*?)\\'', tweet).group(1)\n",
    "    name = re.search(r'\\'name\\': \\'(.*?)\\'', tweet).group(1)\n",
    "    user_id = re.search(r'\\'user_id\\': \\'(\\d+)', tweet).group(1)\n",
    "    location = re.search(r'\\'location\\': \\'(.*?)\\'', tweet).group(1)\n",
    "\n",
    "    return {\n",
    "        'tweet_id': tweet_id,\n",
    "        'creation_date': creation_date,\n",
    "        'text': text,\n",
    "        'username': username,\n",
    "        'name': name,\n",
    "        'user_id': user_id,\n",
    "        'location': location\n",
    "    }\n"
   ]
  },
  {
   "cell_type": "code",
   "execution_count": null,
   "id": "34f7dbcc-8095-4da3-96e9-a143d3975836",
   "metadata": {
    "scrolled": true
   },
   "outputs": [],
   "source": [
    "# Lista para almacenar los datos extraídos de cada tweet\n",
    "datos_extraidos = []\n",
    "\n",
    "# Iterar sobre cada tweet en 'results'\n",
    "for tweet in data['results']:\n",
    "    # Extraer datos del tweet actual usando la función extraer_datos_tweet\n",
    "    tweet_data = extraer_datos_tweet(str(tweet))\n",
    "    datos_extraidos.append(tweet_data)\n",
    "\n",
    "# Imprimir los datos extraídos de todos los tweets\n",
    "for idx, tweet_data in enumerate(datos_extraidos, start=1):\n",
    "    print(f\"Datos del Tweet {idx}:\")\n",
    "    for key, value in tweet_data.items():\n",
    "        print(f\"{key}: {value}\")\n",
    "    print()"
   ]
  },
  {
   "cell_type": "code",
   "execution_count": null,
   "id": "c55dae52-c343-4ccf-8208-fd22472a2d11",
   "metadata": {},
   "outputs": [],
   "source": [
    "# Lista para almacenar los textos de los tweets\n",
    "textos_tweets = []\n",
    "\n",
    "# Iterar sobre cada tweet en 'results'\n",
    "for tweet in data['results']:\n",
    "    # Obtener el texto del tweet actual\n",
    "    text = tweet['text']\n",
    "    textos_tweets.append(text)\n",
    "\n",
    "# Imprimir los textos de los tweets almacenados\n",
    "for idx, texto in enumerate(textos_tweets, start=1):\n",
    "    print(f\"Texto del Tweet {idx}:\")\n",
    "    print(texto)\n",
    "    print()\n",
    "\n",
    "# Ahora puedes utilizar textos_tweets para realizar análisis de sentimiento u otras tareas de procesamiento de texto."
   ]
  },
  {
   "cell_type": "code",
   "execution_count": null,
   "id": "65328063-b0ca-4615-b8eb-0c32f8a562e1",
   "metadata": {},
   "outputs": [],
   "source": [
    "import sqlite3\n",
    "\n",
    "# Conexión a la base de datos SQLite (se creará si no existe)\n",
    "conn = sqlite3.connect('tweets2.db')\n",
    "cursor = conn.cursor()\n",
    "\n",
    "# Crear una tabla para almacenar los tweets\n",
    "cursor.execute('''\n",
    "    CREATE TABLE IF NOT EXISTS tweets (\n",
    "        tweet_id TEXT PRIMARY KEY,\n",
    "        creation_date TEXT,\n",
    "        text TEXT,\n",
    "        username TEXT,\n",
    "        name TEXT,\n",
    "        user_id TEXT,\n",
    "        location TEXT\n",
    "    )\n",
    "''')\n",
    "\n",
    "# Guardar los cambios y cerrar la conexión\n",
    "conn.commit()\n",
    "conn.close()\n"
   ]
  },
  {
   "cell_type": "code",
   "execution_count": null,
   "id": "ff70cfec-1cb5-4e75-a253-b6fb6f908155",
   "metadata": {},
   "outputs": [],
   "source": [
    "# Conectar nuevamente a la base de datos para insertar datos\n",
    "conn = sqlite3.connect('tweets2.db')\n",
    "cursor = conn.cursor()\n",
    "\n",
    "# Iterar sobre los datos extraídos y insertarlos en la base de datos\n",
    "for tweet_data in datos_extraidos:\n",
    "    cursor.execute('''\n",
    "        INSERT OR REPLACE INTO tweets (tweet_id, creation_date, text, username, name, user_id, location)\n",
    "        VALUES (?, ?, ?, ?, ?, ?, ?)\n",
    "    ''', (\n",
    "        tweet_data['tweet_id'],\n",
    "        tweet_data['creation_date'],\n",
    "        tweet_data['text'],\n",
    "        tweet_data['username'],\n",
    "        tweet_data['name'],\n",
    "        tweet_data['user_id'],\n",
    "        tweet_data['location']\n",
    "    ))\n",
    "\n",
    "# Guardar los cambios y cerrar la conexión\n",
    "conn.commit()\n",
    "conn.close()"
   ]
  },
  {
   "cell_type": "code",
   "execution_count": null,
   "id": "53074cfc-febd-4929-b2ad-e3242977f08f",
   "metadata": {},
   "outputs": [],
   "source": [
    "textos_tweets #hacer un analisis de sentimiento"
   ]
  },
  {
   "cell_type": "code",
   "execution_count": null,
   "id": "99d1cc8f-5235-49d2-9178-12d6138a0fe2",
   "metadata": {},
   "outputs": [],
   "source": []
  }
 ],
 "metadata": {
  "kernelspec": {
   "display_name": "Python 3 (ipykernel)",
   "language": "python",
   "name": "python3"
  },
  "language_info": {
   "codemirror_mode": {
    "name": "ipython",
    "version": 3
   },
   "file_extension": ".py",
   "mimetype": "text/x-python",
   "name": "python",
   "nbconvert_exporter": "python",
   "pygments_lexer": "ipython3",
   "version": "3.9.18"
  }
 },
 "nbformat": 4,
 "nbformat_minor": 5
}
