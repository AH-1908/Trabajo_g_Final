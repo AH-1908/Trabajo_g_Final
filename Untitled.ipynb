{
 "cells": [
  {
   "cell_type": "code",
   "execution_count": null,
   "id": "ae52592c-87c5-4a31-8189-1769ecbc2300",
   "metadata": {},
   "outputs": [],
   "source": [
    "El presente trabjo tiene como bjetivos:\n",
    "- Hacer una comparación entre dos artistas, para ver quien tiene más alacance en esta plataforma\n",
    "- Hacer un análisis de sentimiento de los tweets de un tema especifico, utilizando los hagtags\n",
    "- Presentar una base de datos con los detalles del tweet"
   ]
  }
 ],
 "metadata": {
  "kernelspec": {
   "display_name": "Python 3 (ipykernel)",
   "language": "python",
   "name": "python3"
  },
  "language_info": {
   "codemirror_mode": {
    "name": "ipython",
    "version": 3
   },
   "file_extension": ".py",
   "mimetype": "text/x-python",
   "name": "python",
   "nbconvert_exporter": "python",
   "pygments_lexer": "ipython3",
   "version": "3.12.4"
  }
 },
 "nbformat": 4,
 "nbformat_minor": 5
}
