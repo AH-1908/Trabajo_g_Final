{
 "cells": [
  {
   "cell_type": "markdown",
   "id": "dd9467db-13c1-4f23-85ee-cf73a60a444a",
   "metadata": {},
   "source": [
    "El presente trabjo tiene como bjetivos:\n",
    "- Hacer una comparación entre dos artistas, para ver quien tiene más alacance en esta plataforma\n",
    "- Hacer un análisis de sentimiento de los tweets de un tema especifico, utilizando los hagtags\n",
    "- Presentar una base de datos con los detalles del tweet"
   ]
  },
  {
   "cell_type": "markdown",
   "id": "70980706-ed60-40c8-89c9-3b06eda30010",
   "metadata": {},
   "source": [
    "Para utilizar la API de marketing de Twitter (ahora conocida como X), es necesario obtener las credenciales adecuadas. A continuación, se detallan los pasos para obtenerlas:\n",
    "\n",
    "1. Crear una Cuenta de Twitter:\n",
    "    - Visita el sitio web de Twitter y crea una cuenta.\n",
    "    - Seleccionar el Plan Gratuito de la API:\n",
    "\n",
    "2. Ve a la página de desarrolladores de Twitter.\n",
    "    - Elige el plan gratuito que ofrece la API. \n",
    "    - Una vez que hayas seleccionado el plan gratuito, sigue las instrucciones para crear una nueva aplicación en el portal de desarrolladores.\n",
    "    - Proporciona los detalles necesarios, como el nombre de la aplicación, la descripción y el sitio web (si aplica).\n",
    "        \n",
    "3. Autenticar tus Credenciales:\n",
    "    - Después de crear la aplicación, recibirás las credenciales necesarias, que incluyen la clave API, el secreto API, el token de acceso y el secreto del token de acceso.\n",
    "Estos detalles se encuentran en el panel de tu aplicación en el portal de desarrolladores."
   ]
  },
  {
   "cell_type": "code",
   "execution_count": null,
   "id": "6e4defa9-bbcd-4b6a-a786-68f0949380c4",
   "metadata": {},
   "outputs": [],
   "source": []
  }
 ],
 "metadata": {
  "kernelspec": {
   "display_name": "Python 3 (ipykernel)",
   "language": "python",
   "name": "python3"
  },
  "language_info": {
   "codemirror_mode": {
    "name": "ipython",
    "version": 3
   },
   "file_extension": ".py",
   "mimetype": "text/x-python",
   "name": "python",
   "nbconvert_exporter": "python",
   "pygments_lexer": "ipython3",
   "version": "3.12.4"
  }
 },
 "nbformat": 4,
 "nbformat_minor": 5
}
